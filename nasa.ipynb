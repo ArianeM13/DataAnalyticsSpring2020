{
 "cells": [
  {
   "cell_type": "code",
   "execution_count": 129,
   "metadata": {},
   "outputs": [],
   "source": [
    "import numpy as np\n",
    "import requests\n",
    "import shapefile\n",
    "import geopandas as gpd"
   ]
  },
  {
   "cell_type": "code",
   "execution_count": 130,
   "metadata": {},
   "outputs": [],
   "source": [
    "from io import BytesIO\n",
    "from matplotlib.pyplot import imshow\n",
    "from PIL import Image\n",
    "from numpy.core.defchararray import strip"
   ]
  },
  {
   "cell_type": "code",
   "execution_count": 18,
   "metadata": {},
   "outputs": [],
   "source": [
    "URL = \"https://gibs.earthdata.nasa.gov/wms/epsg4326/best/wms.cgi?SERVICE=WMS&REQUEST=GetMap&layers\" \\\n",
    "      \"=MODIS_Aqua_CorrectedReflectance_TrueColor&version=1.3.0&crs=EPSG:4326&transparent=false&width={}&height={\" \\\n",
    "      \"}&bbox={}&format=image/tiff&time={} \"\n",
    "KM_PER_DEG_AT_EQ = 111."
   ]
  },
  {
   "cell_type": "code",
   "execution_count": 19,
   "metadata": {},
   "outputs": [],
   "source": [
    "def calculate_width_height(extent, resolution):\n",
    "    \"\"\"\n",
    "    extent: [lower_latitude, left_longitude, higher_latitude, right_longitude], EG: [51.46162974683544,\n",
    "    -22.94768591772153,53.03698575949367,-20.952234968354432] resolution: represents the pixel resolution,\n",
    "    i.e. km/pixel. Should be a value from this list: [0.03, 0.06, 0.125, 0.25, 0.5, 1, 5, 10]\n",
    "    \"\"\"\n",
    "    lats = extent[::2]\n",
    "    lons = extent[1::2]\n",
    "    km_per_deg_at_lat = KM_PER_DEG_AT_EQ * np.cos(np.pi * np.mean(lats) / 180.)\n",
    "    width = int((lons[1] - lons[0]) * km_per_deg_at_lat / resolution)\n",
    "    height = int((lats[1] - lats[0]) * KM_PER_DEG_AT_EQ / resolution)\n",
    "    print(width, height)\n",
    "    return width, height"
   ]
  },
  {
   "cell_type": "code",
   "execution_count": 20,
   "metadata": {},
   "outputs": [],
   "source": [
    "def modis_url(time, extent, resolution):\n",
    "    \"\"\"\n",
    "    time: utc time in iso format EG: 2020-02-19T00:00:00Z extent: [lower_latitude, left_longitude, higher_latitude,\n",
    "    right_longitude], EG: [51.46162974683544,-22.94768591772153,53.03698575949367,-20.952234968354432] resolution:\n",
    "    represents the pixel resolution, i.e. km/pixel. Should be a value from this list: [0.03, 0.06, 0.125, 0.25, 0.5,\n",
    "    1, 5, 10]\n",
    "    \"\"\"\n",
    "    width, height = calculate_width_height(extent, resolution)\n",
    "    extent = ','.join(map(lambda x: str(x), extent))\n",
    "    return width, height, URL.format(width, height, extent, time)"
   ]
  },
  {
   "cell_type": "code",
   "execution_count": 197,
   "metadata": {},
   "outputs": [
    {
     "name": "stdout",
     "output_type": "stream",
     "text": [
      "/Users/arianemaharaj/Documents/NASA/Data/high-latitude-dust_2010-12-01_234\n"
     ]
    },
    {
     "data": {
      "text/plain": [
       "208"
      ]
     },
     "execution_count": 197,
     "metadata": {},
     "output_type": "execute_result"
    }
   ],
   "source": [
    "import os\n",
    "rootdir = '/Users/arianemaharaj/Documents/NASA/Data'\n",
    "Dirname = [x[0] for x in os.walk(rootdir)]\n",
    "Dirname.pop(0)\n",
    "print (Dirname[0])\n",
    "len(Dirname)\n",
    "#207 useful directory names"
   ]
  },
  {
   "cell_type": "code",
   "execution_count": 198,
   "metadata": {},
   "outputs": [],
   "source": [
    "import re\n",
    "temp = list()\n",
    "for fname in Dirname:\n",
    "    str0 = fname.split('_')\n",
    "    str1 = str0[1]\n",
    "    str2 = fname[fname.rindex('_'):]\n",
    "    date = str1+str2\n",
    "    #res = re.findall(\"high-latitude-dust_(\\d+)\", fname)\n",
    "    #if not res: continue\n",
    "    #print (res[0])\n",
    "    temp.append (date)"
   ]
  },
  {
   "cell_type": "code",
   "execution_count": 199,
   "metadata": {},
   "outputs": [
    {
     "data": {
      "text/plain": [
       "208"
      ]
     },
     "execution_count": 199,
     "metadata": {},
     "output_type": "execute_result"
    }
   ],
   "source": [
    "len (temp)"
   ]
  },
  {
   "cell_type": "code",
   "execution_count": 200,
   "metadata": {},
   "outputs": [
    {
     "name": "stdout",
     "output_type": "stream",
     "text": [
      "['2002-10-23_274', '2003-01-19_53', '2003-01-19_77', '2003-03-09_270', '2003-03-11_268', '2003-03-12_263', '2003-03-12_265', '2003-03-12_267', '2003-03-12_269']\n",
      "['2019-11-09_289', 'Pics_Pics']\n"
     ]
    },
    {
     "data": {
      "text/plain": [
       "208"
      ]
     },
     "execution_count": 200,
     "metadata": {},
     "output_type": "execute_result"
    }
   ],
   "source": [
    "temp.sort()\n",
    "dates = temp\n",
    "print (dates[1:10])\n",
    "print (dates[-2:])\n",
    "len(dates)"
   ]
  },
  {
   "cell_type": "code",
   "execution_count": 201,
   "metadata": {},
   "outputs": [
    {
     "name": "stdout",
     "output_type": "stream",
     "text": [
      "['2002-10-23_274', '2003-01-19_53', '2003-01-19_77', '2003-03-09_270']\n",
      "['2019-03-26_111', '2019-11-09_289']\n"
     ]
    },
    {
     "data": {
      "text/plain": [
       "207"
      ]
     },
     "execution_count": 201,
     "metadata": {},
     "output_type": "execute_result"
    }
   ],
   "source": [
    "dates.pop(-1)\n",
    "print (dates[1:5])\n",
    "print (dates[-2:])\n",
    "len(dates)"
   ]
  },
  {
   "cell_type": "code",
   "execution_count": 203,
   "metadata": {},
   "outputs": [],
   "source": [
    "bbox = list()\n",
    "for i in dates:\n",
    "    sh = shapefile.Reader(\"../../Documents/NASA/Data/high-latitude-dust_\" + i + \"/high-latitude-dust_\" + i)\n",
    "    shapes = sh.shapes()\n",
    "    box = shapes[0].bbox\n",
    "    bbox.append(box)"
   ]
  },
  {
   "cell_type": "code",
   "execution_count": 204,
   "metadata": {},
   "outputs": [
    {
     "data": {
      "text/plain": [
       "[[-19.05626, 62.637483, -17.143616, 63.602063],\n",
       " [-67.575581, -45.764561, -63.257844, -44.841727],\n",
       " [-67.54834, -45.711837, -63.500977, -44.850475],\n",
       " [-146.614203, 58.592352, -144.270666, 60.543486],\n",
       " [-146.467104, 59.275672, -144.136757, 60.569836],\n",
       " [-141.317987, 58.227593, -138.24017, 59.471221],\n",
       " [-141.622253, 58.297892, -139.206345, 59.383326],\n",
       " [-142.852868, 59.326216, -140.118007, 59.857944],\n",
       " [-146.700115, 59.392126, -144.765487, 60.556654]]"
      ]
     },
     "execution_count": 204,
     "metadata": {},
     "output_type": "execute_result"
    }
   ],
   "source": [
    "bbox[1:10]"
   ]
  },
  {
   "cell_type": "code",
   "execution_count": 205,
   "metadata": {},
   "outputs": [],
   "source": [
    "# sh = shapefile.Reader(\"../../Documents/NASA/high-latitude-dust_2012-12-04_221/high-latitude-dust_2012-12-04_221\")\n",
    "# shapes = sh.shapes()\n",
    "# bbox = shapes[0].bbox\n",
    "# bbox"
   ]
  },
  {
   "cell_type": "code",
   "execution_count": 206,
   "metadata": {},
   "outputs": [],
   "source": [
    "# bboxt= [bbox[1],bbox[0],bbox[3],bbox[2]]\n",
    "# bboxt"
   ]
  },
  {
   "cell_type": "code",
   "execution_count": 207,
   "metadata": {},
   "outputs": [
    {
     "name": "stdout",
     "output_type": "stream",
     "text": [
      "[[62.637483, -19.05626, 63.602063, -17.143616], [-45.764561, -67.575581, -44.841727, -63.257844], [-45.711837, -67.54834, -44.850475, -63.500977], [58.592352, -146.614203, 60.543486, -144.270666], [59.275672, -146.467104, 60.569836, -144.136757], [58.227593, -141.317987, 59.471221, -138.24017], [58.297892, -141.622253, 59.383326, -139.206345], [59.326216, -142.852868, 59.857944, -140.118007], [59.392126, -146.700115, 60.556654, -144.765487]]\n",
      "[57.059541, -144.166992, 59.976433, -138.023437]\n"
     ]
    }
   ],
   "source": [
    "bbox_rotated = []\n",
    "for i in range(len(bbox)):\n",
    "    bbox_rotated.append([bbox[i][1],bbox[i][0],bbox[i][3],bbox[i][2]])\n",
    "print (bbox_rotated[1:10])\n",
    "print(bbox_rotated[-1])"
   ]
  },
  {
   "cell_type": "code",
   "execution_count": 208,
   "metadata": {},
   "outputs": [],
   "source": [
    "# width, height, url = modis_url('2012-12-04T00:00:00Z',\n",
    "#                                bboxt, 0.25)"
   ]
  },
  {
   "cell_type": "code",
   "execution_count": 209,
   "metadata": {},
   "outputs": [],
   "source": [
    "dateonly = list()\n",
    "for fname in Dirname:\n",
    "    str0 = fname.split('_')\n",
    "    dateonly.append (str0[1])"
   ]
  },
  {
   "cell_type": "code",
   "execution_count": 210,
   "metadata": {},
   "outputs": [
    {
     "name": "stdout",
     "output_type": "stream",
     "text": [
      "208\n",
      "['2013-11-17', '2018-02-03', '2017-11-07', '2019-02-25', '2010-01-24', '2003-03-12', '2019-02-25', '2003-10-30', '2009-08-05']\n"
     ]
    }
   ],
   "source": [
    "print (len(dateonly))\n",
    "print (dateonly[1:10])"
   ]
  },
  {
   "cell_type": "code",
   "execution_count": 211,
   "metadata": {},
   "outputs": [
    {
     "name": "stdout",
     "output_type": "stream",
     "text": [
      "['2002-10-23', '2003-01-19', '2003-01-19', '2003-03-09', '2003-03-11', '2003-03-12', '2003-03-12', '2003-03-12', '2003-03-12']\n",
      "['2019-02-25', '2019-03-26', '2019-11-09', 'Pics']\n"
     ]
    }
   ],
   "source": [
    "dateonly.sort()\n",
    "print (dateonly[1:10])\n",
    "print (dateonly[-4:])"
   ]
  },
  {
   "cell_type": "code",
   "execution_count": 212,
   "metadata": {},
   "outputs": [
    {
     "name": "stdout",
     "output_type": "stream",
     "text": [
      "207\n",
      "['2019-02-25', '2019-02-25', '2019-03-26', '2019-11-09']\n"
     ]
    }
   ],
   "source": [
    "dateonly.pop(-1)\n",
    "print (len(dateonly))\n",
    "print (dateonly[-4:])"
   ]
  },
  {
   "cell_type": "code",
   "execution_count": 213,
   "metadata": {},
   "outputs": [],
   "source": [
    "#sh = shapefile.Reader(\"../../Documents/NASA/high-latitude-dust_7/high-latitude-dust_7\")\n",
    "# response = requests.get(strip(url))\n",
    "# img = BytesIO(response.content)"
   ]
  },
  {
   "cell_type": "code",
   "execution_count": 214,
   "metadata": {},
   "outputs": [],
   "source": [
    "# im = Image.open(img)\n",
    "# im.show()\n",
    "#Image.open(img)"
   ]
  },
  {
   "cell_type": "code",
   "execution_count": 221,
   "metadata": {},
   "outputs": [
    {
     "name": "stdout",
     "output_type": "stream",
     "text": [
      "153 211\n"
     ]
    },
    {
     "ename": "AttributeError",
     "evalue": "'TiffImageFile' object has no attribute 'write'",
     "output_type": "error",
     "traceback": [
      "\u001b[0;31m---------------------------------------------------------------------------\u001b[0m",
      "\u001b[0;31mAttributeError\u001b[0m                            Traceback (most recent call last)",
      "\u001b[0;32m<ipython-input-221-33148e4c5b65>\u001b[0m in \u001b[0;36m<module>\u001b[0;34m\u001b[0m\n\u001b[1;32m      6\u001b[0m     \u001b[0mim\u001b[0m \u001b[0;34m=\u001b[0m \u001b[0mImage\u001b[0m\u001b[0;34m.\u001b[0m\u001b[0mopen\u001b[0m\u001b[0;34m(\u001b[0m\u001b[0mimg\u001b[0m\u001b[0;34m)\u001b[0m\u001b[0;34m\u001b[0m\u001b[0;34m\u001b[0m\u001b[0m\n\u001b[1;32m      7\u001b[0m     \u001b[0mim\u001b[0m\u001b[0;34m.\u001b[0m\u001b[0mshow\u001b[0m\u001b[0;34m(\u001b[0m\u001b[0;34m)\u001b[0m\u001b[0;34m\u001b[0m\u001b[0;34m\u001b[0m\u001b[0m\n\u001b[0;32m----> 8\u001b[0;31m     \u001b[0mim\u001b[0m\u001b[0;34m.\u001b[0m\u001b[0msave\u001b[0m \u001b[0;34m(\u001b[0m\u001b[0mim\u001b[0m\u001b[0;34m,\u001b[0m\u001b[0;34m\"PNG\"\u001b[0m\u001b[0;34m)\u001b[0m\u001b[0;34m\u001b[0m\u001b[0;34m\u001b[0m\u001b[0m\n\u001b[0m\u001b[1;32m      9\u001b[0m     \u001b[0mim\u001b[0m\u001b[0;34m.\u001b[0m\u001b[0mqrcode_file\u001b[0m\u001b[0;34m.\u001b[0m\u001b[0msave\u001b[0m\u001b[0;34m(\u001b[0m\u001b[0;34m'../../Documents/NASA/Data/Dust_Pics/high-latitude-dust'\u001b[0m\u001b[0;34m+\u001b[0m\u001b[0mk\u001b[0m\u001b[0;34m,\u001b[0m \u001b[0mFile\u001b[0m\u001b[0;34m(\u001b[0m\u001b[0mim\u001b[0m\u001b[0;34m)\u001b[0m\u001b[0;34m,\u001b[0m \u001b[0msave\u001b[0m\u001b[0;34m=\u001b[0m\u001b[0;32mFalse\u001b[0m\u001b[0;34m)\u001b[0m\u001b[0;34m\u001b[0m\u001b[0;34m\u001b[0m\u001b[0m\n",
      "\u001b[0;32m~/opt/anaconda3/lib/python3.7/site-packages/PIL/Image.py\u001b[0m in \u001b[0;36msave\u001b[0;34m(self, fp, format, **params)\u001b[0m\n\u001b[1;32m   2082\u001b[0m \u001b[0;34m\u001b[0m\u001b[0m\n\u001b[1;32m   2083\u001b[0m         \u001b[0;32mtry\u001b[0m\u001b[0;34m:\u001b[0m\u001b[0;34m\u001b[0m\u001b[0;34m\u001b[0m\u001b[0m\n\u001b[0;32m-> 2084\u001b[0;31m             \u001b[0msave_handler\u001b[0m\u001b[0;34m(\u001b[0m\u001b[0mself\u001b[0m\u001b[0;34m,\u001b[0m \u001b[0mfp\u001b[0m\u001b[0;34m,\u001b[0m \u001b[0mfilename\u001b[0m\u001b[0;34m)\u001b[0m\u001b[0;34m\u001b[0m\u001b[0;34m\u001b[0m\u001b[0m\n\u001b[0m\u001b[1;32m   2085\u001b[0m         \u001b[0;32mfinally\u001b[0m\u001b[0;34m:\u001b[0m\u001b[0;34m\u001b[0m\u001b[0;34m\u001b[0m\u001b[0m\n\u001b[1;32m   2086\u001b[0m             \u001b[0;31m# do what we can to clean up\u001b[0m\u001b[0;34m\u001b[0m\u001b[0;34m\u001b[0m\u001b[0;34m\u001b[0m\u001b[0m\n",
      "\u001b[0;32m~/opt/anaconda3/lib/python3.7/site-packages/PIL/PngImagePlugin.py\u001b[0m in \u001b[0;36m_save\u001b[0;34m(im, fp, filename, chunk)\u001b[0m\n\u001b[1;32m    805\u001b[0m     \u001b[0;31m# write minimal PNG file\u001b[0m\u001b[0;34m\u001b[0m\u001b[0;34m\u001b[0m\u001b[0;34m\u001b[0m\u001b[0m\n\u001b[1;32m    806\u001b[0m \u001b[0;34m\u001b[0m\u001b[0m\n\u001b[0;32m--> 807\u001b[0;31m     \u001b[0mfp\u001b[0m\u001b[0;34m.\u001b[0m\u001b[0mwrite\u001b[0m\u001b[0;34m(\u001b[0m\u001b[0m_MAGIC\u001b[0m\u001b[0;34m)\u001b[0m\u001b[0;34m\u001b[0m\u001b[0;34m\u001b[0m\u001b[0m\n\u001b[0m\u001b[1;32m    808\u001b[0m \u001b[0;34m\u001b[0m\u001b[0m\n\u001b[1;32m    809\u001b[0m     chunk(\n",
      "\u001b[0;31mAttributeError\u001b[0m: 'TiffImageFile' object has no attribute 'write'"
     ]
    }
   ],
   "source": [
    "from django.core.files import File\n",
    "for i, j, k in zip(dateonly, bbox_rotated, dates):\n",
    "    width, height, url = modis_url(i+'T00:00:00Z',j, 0.25)\n",
    "    response = requests.get(strip(url))\n",
    "    img = BytesIO(response.content)\n",
    "    im = Image.open(img)\n",
    "    im.show()\n",
    "    im.save (im,\"TIFF\")\n",
    "    im.qrcode_file.save('../../Documents/NASA/Data/Dust_Pics/high-latitude-dust'+k, File(im), save=False) "
   ]
  },
  {
   "cell_type": "code",
   "execution_count": null,
   "metadata": {},
   "outputs": [],
   "source": []
  },
  {
   "cell_type": "code",
   "execution_count": null,
   "metadata": {},
   "outputs": [],
   "source": []
  }
 ],
 "metadata": {
  "kernelspec": {
   "display_name": "Python 3",
   "language": "python",
   "name": "python3"
  },
  "language_info": {
   "codemirror_mode": {
    "name": "ipython",
    "version": 3
   },
   "file_extension": ".py",
   "mimetype": "text/x-python",
   "name": "python",
   "nbconvert_exporter": "python",
   "pygments_lexer": "ipython3",
   "version": "3.7.4"
  }
 },
 "nbformat": 4,
 "nbformat_minor": 2
}
