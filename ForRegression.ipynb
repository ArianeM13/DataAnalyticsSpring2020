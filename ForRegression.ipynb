{
 "cells": [
  {
   "cell_type": "code",
   "execution_count": 1,
   "metadata": {},
   "outputs": [],
   "source": [
    "import re\n",
    "import os"
   ]
  },
  {
   "cell_type": "code",
   "execution_count": 2,
   "metadata": {},
   "outputs": [],
   "source": [
    "precip_dates =[]\n",
    "path = '/Users/arianemaharaj/Documents/NASA/Precipitation/Precip_csv'\n",
    "for filename in os.listdir(path):\n",
    "    if filename.endswith('.csv'):\n",
    "        precip_dates.append(filename.split(\".\")[0])"
   ]
  },
  {
   "cell_type": "code",
   "execution_count": 3,
   "metadata": {},
   "outputs": [
    {
     "name": "stdout",
     "output_type": "stream",
     "text": [
      "377\n",
      "['2010-02-08', '2009-07-07', '2005-01-12', '2017-11-10', '2016-10-27']\n"
     ]
    }
   ],
   "source": [
    "print(len(precip_dates))\n",
    "print(precip_dates[0:5])"
   ]
  },
  {
   "cell_type": "code",
   "execution_count": 4,
   "metadata": {},
   "outputs": [
    {
     "name": "stdout",
     "output_type": "stream",
     "text": [
      "['2002-10-21', '2002-10-22', '2002-10-23', '2002-10-24', '2002-10-25']\n"
     ]
    }
   ],
   "source": [
    "precip_dates.sort()\n",
    "print(precip_dates[0:5])"
   ]
  },
  {
   "cell_type": "code",
   "execution_count": 5,
   "metadata": {},
   "outputs": [
    {
     "name": "stdout",
     "output_type": "stream",
     "text": [
      "2002-\n",
      "2266\n"
     ]
    }
   ],
   "source": [
    "#NOT WHAT I WANT\n",
    "f = open(\"dateonly.txt\",\"r\")\n",
    "if f.mode == 'r':\n",
    "    dust_dates = f.read()\n",
    "    print(dust_dates[0:5])\n",
    "    print(len(dust_dates))"
   ]
  },
  {
   "cell_type": "code",
   "execution_count": 6,
   "metadata": {},
   "outputs": [],
   "source": [
    "filename = \"dateonly.txt\"\n",
    "dust_dates = []\n",
    "with open(filename, 'r') as file:\n",
    "    for line in file:\n",
    "        dust_dates.append(line.strip())"
   ]
  },
  {
   "cell_type": "code",
   "execution_count": 7,
   "metadata": {},
   "outputs": [
    {
     "name": "stdout",
     "output_type": "stream",
     "text": [
      "['2002-10-22', '2002-10-23', '2003-01-19', '2003-01-19', '2003-03-09']\n",
      "206\n"
     ]
    }
   ],
   "source": [
    "print(dust_dates[0:5])\n",
    "print(len(dust_dates))"
   ]
  },
  {
   "cell_type": "code",
   "execution_count": 9,
   "metadata": {},
   "outputs": [
    {
     "ename": "TypeError",
     "evalue": "Could not convert 0.00.00.00.00.00.00.00.00.009320219----0.00.00.00.00.00.00.00.00.021203580.02099036--0.000207138890.000207138890.00.00.00.00.00.0133901520.0117889010.011271290.0091286630.000207138890.00058572380.00037858490.00.00.00.00058027560.0143874030.065921760.0122499861.6682280.00029755790.00058572380.00108983090.00071124590.00.00.00058027560.0287368740.0728687052.15599870.00810948850.000180838030.000518163140.00108983090.00210069930.00138945340.00.00192862140.0105737890.078295450.064647020.0197531730.00.00027915650.00103165370.00210069930.00412964630.00274019270.00192862140.0178158020.0768531040.0254759170.0254355020.00.00.00064081550.00193047260.00412964630.0086313270.0076661960.035203120.030065510.0356634260.00.00.00.00.00108203840.00390767960.00728298160.0096340330.0141300820.0187090780.0283999260.0091191520.00.00.00.00.00233497350.0065203720.0082856870.0118142160.0194476530.0144962370.0098759120.00.00.00.00.00.0039551660.00374289860.0080853740.0260026750.0184622090.0106132710.00.00.00.00.00.00.00.0043424750.015690820.0393487330.0357047770.00.00.00.00.000116719880.00.00.00134834590.0130066860.068833790.0463331830.00.00.00.000116719880.000116719880.000239006650.00.00134834590.0178968070.0408896580.075264920.00.09.041902e-050.000116719880.00535572650.000239006650.000390838220.00.0084033840.0332162340.0522477850.00.09.041902e-050.000346717130.00535572650.000629844840.000390838220.000848434170.00717168160.0226176980.118945690.00.00.000180838030.000229997270.00081571250.000629844840.00123927240.000848434170.00215592140.0119383190.051912190.00.00.000180838030.00027915650.000459985980.0064912720.00123927240.00242114020.00168934910.0143812380.0202194170.00.00.00.00027915650.00073123450.00586142670.0080644210.00242114020.00413791230.0039135520.0255855450.00.00.000320109360.00.00122135310.00140245470.00688934370.00568285260.00413791230.0063081050.0050912444 to numeric",
     "output_type": "error",
     "traceback": [
      "\u001b[0;31m---------------------------------------------------------------------------\u001b[0m",
      "\u001b[0;31mValueError\u001b[0m                                Traceback (most recent call last)",
      "\u001b[0;32m~/opt/anaconda3/lib/python3.7/site-packages/pandas/core/nanops.py\u001b[0m in \u001b[0;36m_ensure_numeric\u001b[0;34m(x)\u001b[0m\n\u001b[1;32m   1303\u001b[0m         \u001b[0;32mtry\u001b[0m\u001b[0;34m:\u001b[0m\u001b[0;34m\u001b[0m\u001b[0;34m\u001b[0m\u001b[0m\n\u001b[0;32m-> 1304\u001b[0;31m             \u001b[0mx\u001b[0m \u001b[0;34m=\u001b[0m \u001b[0mfloat\u001b[0m\u001b[0;34m(\u001b[0m\u001b[0mx\u001b[0m\u001b[0;34m)\u001b[0m\u001b[0;34m\u001b[0m\u001b[0;34m\u001b[0m\u001b[0m\n\u001b[0m\u001b[1;32m   1305\u001b[0m         \u001b[0;32mexcept\u001b[0m \u001b[0mException\u001b[0m\u001b[0;34m:\u001b[0m\u001b[0;34m\u001b[0m\u001b[0;34m\u001b[0m\u001b[0m\n",
      "\u001b[0;31mValueError\u001b[0m: could not convert string to float: '0.00.00.00.00.00.00.00.00.009320219----0.00.00.00.00.00.00.00.00.021203580.02099036--0.000207138890.000207138890.00.00.00.00.00.0133901520.0117889010.011271290.0091286630.000207138890.00058572380.00037858490.00.00.00.00058027560.0143874030.065921760.0122499861.6682280.00029755790.00058572380.00108983090.00071124590.00.00.00058027560.0287368740.0728687052.15599870.00810948850.000180838030.000518163140.00108983090.00210069930.00138945340.00.00192862140.0105737890.078295450.064647020.0197531730.00.00027915650.00103165370.00210069930.00412964630.00274019270.00192862140.0178158020.0768531040.0254759170.0254355020.00.00.00064081550.00193047260.00412964630.0086313270.0076661960.035203120.030065510.0356634260.00.00.00.00.00108203840.00390767960.00728298160.0096340330.0141300820.0187090780.0283999260.0091191520.00.00.00.00.00233497350.0065203720.0082856870.0118142160.0194476530.0144962370.0098759120.00.00.00.00.00.0039551660.00374289860.0080853740.0260026750.0184622090.0106132710.00.00.00.00.00.00.00.0043424750.015690820.0393487330.0357047770.00.00.00.00.000116719880.00.00.00134834590.0130066860.068833790.0463331830.00.00.00.000116719880.000116719880.000239006650.00.00134834590.0178968070.0408896580.075264920.00.09.041902e-050.000116719880.00535572650.000239006650.000390838220.00.0084033840.0332162340.0522477850.00.09.041902e-050.000346717130.00535572650.000629844840.000390838220.000848434170.00717168160.0226176980.118945690.00.00.000180838030.000229997270.00081571250.000629844840.00123927240.000848434170.00215592140.0119383190.051912190.00.00.000180838030.00027915650.000459985980.0064912720.00123927240.00242114020.00168934910.0143812380.0202194170.00.00.00.00027915650.00073123450.00586142670.0080644210.00242114020.00413791230.0039135520.0255855450.00.00.000320109360.00.00122135310.00140245470.00688934370.00568285260.00413791230.0063081050.0050912444'",
      "\nDuring handling of the above exception, another exception occurred:\n",
      "\u001b[0;31mValueError\u001b[0m                                Traceback (most recent call last)",
      "\u001b[0;32m~/opt/anaconda3/lib/python3.7/site-packages/pandas/core/nanops.py\u001b[0m in \u001b[0;36m_ensure_numeric\u001b[0;34m(x)\u001b[0m\n\u001b[1;32m   1306\u001b[0m             \u001b[0;32mtry\u001b[0m\u001b[0;34m:\u001b[0m\u001b[0;34m\u001b[0m\u001b[0;34m\u001b[0m\u001b[0m\n\u001b[0;32m-> 1307\u001b[0;31m                 \u001b[0mx\u001b[0m \u001b[0;34m=\u001b[0m \u001b[0mcomplex\u001b[0m\u001b[0;34m(\u001b[0m\u001b[0mx\u001b[0m\u001b[0;34m)\u001b[0m\u001b[0;34m\u001b[0m\u001b[0;34m\u001b[0m\u001b[0m\n\u001b[0m\u001b[1;32m   1308\u001b[0m             \u001b[0;32mexcept\u001b[0m \u001b[0mException\u001b[0m\u001b[0;34m:\u001b[0m\u001b[0;34m\u001b[0m\u001b[0;34m\u001b[0m\u001b[0m\n",
      "\u001b[0;31mValueError\u001b[0m: complex() arg is a malformed string",
      "\nDuring handling of the above exception, another exception occurred:\n",
      "\u001b[0;31mTypeError\u001b[0m                                 Traceback (most recent call last)",
      "\u001b[0;32m~/opt/anaconda3/lib/python3.7/site-packages/pandas/core/nanops.py\u001b[0m in \u001b[0;36mf\u001b[0;34m(values, axis, skipna, **kwds)\u001b[0m\n\u001b[1;32m    119\u001b[0m                 \u001b[0;32melse\u001b[0m\u001b[0;34m:\u001b[0m\u001b[0;34m\u001b[0m\u001b[0;34m\u001b[0m\u001b[0m\n\u001b[0;32m--> 120\u001b[0;31m                     \u001b[0mresult\u001b[0m \u001b[0;34m=\u001b[0m \u001b[0malt\u001b[0m\u001b[0;34m(\u001b[0m\u001b[0mvalues\u001b[0m\u001b[0;34m,\u001b[0m \u001b[0maxis\u001b[0m\u001b[0;34m=\u001b[0m\u001b[0maxis\u001b[0m\u001b[0;34m,\u001b[0m \u001b[0mskipna\u001b[0m\u001b[0;34m=\u001b[0m\u001b[0mskipna\u001b[0m\u001b[0;34m,\u001b[0m \u001b[0;34m**\u001b[0m\u001b[0mkwds\u001b[0m\u001b[0;34m)\u001b[0m\u001b[0;34m\u001b[0m\u001b[0;34m\u001b[0m\u001b[0m\n\u001b[0m\u001b[1;32m    121\u001b[0m             \u001b[0;32mexcept\u001b[0m \u001b[0mException\u001b[0m\u001b[0;34m:\u001b[0m\u001b[0;34m\u001b[0m\u001b[0;34m\u001b[0m\u001b[0m\n",
      "\u001b[0;32m~/opt/anaconda3/lib/python3.7/site-packages/pandas/core/nanops.py\u001b[0m in \u001b[0;36mnanmean\u001b[0;34m(values, axis, skipna, mask)\u001b[0m\n\u001b[1;32m    550\u001b[0m     \u001b[0mcount\u001b[0m \u001b[0;34m=\u001b[0m \u001b[0m_get_counts\u001b[0m\u001b[0;34m(\u001b[0m\u001b[0mvalues\u001b[0m\u001b[0;34m.\u001b[0m\u001b[0mshape\u001b[0m\u001b[0;34m,\u001b[0m \u001b[0mmask\u001b[0m\u001b[0;34m,\u001b[0m \u001b[0maxis\u001b[0m\u001b[0;34m,\u001b[0m \u001b[0mdtype\u001b[0m\u001b[0;34m=\u001b[0m\u001b[0mdtype_count\u001b[0m\u001b[0;34m)\u001b[0m\u001b[0;34m\u001b[0m\u001b[0;34m\u001b[0m\u001b[0m\n\u001b[0;32m--> 551\u001b[0;31m     \u001b[0mthe_sum\u001b[0m \u001b[0;34m=\u001b[0m \u001b[0m_ensure_numeric\u001b[0m\u001b[0;34m(\u001b[0m\u001b[0mvalues\u001b[0m\u001b[0;34m.\u001b[0m\u001b[0msum\u001b[0m\u001b[0;34m(\u001b[0m\u001b[0maxis\u001b[0m\u001b[0;34m,\u001b[0m \u001b[0mdtype\u001b[0m\u001b[0;34m=\u001b[0m\u001b[0mdtype_sum\u001b[0m\u001b[0;34m)\u001b[0m\u001b[0;34m)\u001b[0m\u001b[0;34m\u001b[0m\u001b[0;34m\u001b[0m\u001b[0m\n\u001b[0m\u001b[1;32m    552\u001b[0m \u001b[0;34m\u001b[0m\u001b[0m\n",
      "\u001b[0;32m~/opt/anaconda3/lib/python3.7/site-packages/pandas/core/nanops.py\u001b[0m in \u001b[0;36m_ensure_numeric\u001b[0;34m(x)\u001b[0m\n\u001b[1;32m   1309\u001b[0m                 raise TypeError(\n\u001b[0;32m-> 1310\u001b[0;31m                     \u001b[0;34m\"Could not convert {value!s} to numeric\"\u001b[0m\u001b[0;34m.\u001b[0m\u001b[0mformat\u001b[0m\u001b[0;34m(\u001b[0m\u001b[0mvalue\u001b[0m\u001b[0;34m=\u001b[0m\u001b[0mx\u001b[0m\u001b[0;34m)\u001b[0m\u001b[0;34m\u001b[0m\u001b[0;34m\u001b[0m\u001b[0m\n\u001b[0m\u001b[1;32m   1311\u001b[0m                 )\n",
      "\u001b[0;31mTypeError\u001b[0m: Could not convert 0.00.00.00.00.00.00.00.00.009320219----0.00.00.00.00.00.00.00.00.021203580.02099036--0.000207138890.000207138890.00.00.00.00.00.0133901520.0117889010.011271290.0091286630.000207138890.00058572380.00037858490.00.00.00.00058027560.0143874030.065921760.0122499861.6682280.00029755790.00058572380.00108983090.00071124590.00.00.00058027560.0287368740.0728687052.15599870.00810948850.000180838030.000518163140.00108983090.00210069930.00138945340.00.00192862140.0105737890.078295450.064647020.0197531730.00.00027915650.00103165370.00210069930.00412964630.00274019270.00192862140.0178158020.0768531040.0254759170.0254355020.00.00.00064081550.00193047260.00412964630.0086313270.0076661960.035203120.030065510.0356634260.00.00.00.00.00108203840.00390767960.00728298160.0096340330.0141300820.0187090780.0283999260.0091191520.00.00.00.00.00233497350.0065203720.0082856870.0118142160.0194476530.0144962370.0098759120.00.00.00.00.00.0039551660.00374289860.0080853740.0260026750.0184622090.0106132710.00.00.00.00.00.00.00.0043424750.015690820.0393487330.0357047770.00.00.00.00.000116719880.00.00.00134834590.0130066860.068833790.0463331830.00.00.00.000116719880.000116719880.000239006650.00.00134834590.0178968070.0408896580.075264920.00.09.041902e-050.000116719880.00535572650.000239006650.000390838220.00.0084033840.0332162340.0522477850.00.09.041902e-050.000346717130.00535572650.000629844840.000390838220.000848434170.00717168160.0226176980.118945690.00.00.000180838030.000229997270.00081571250.000629844840.00123927240.000848434170.00215592140.0119383190.051912190.00.00.000180838030.00027915650.000459985980.0064912720.00123927240.00242114020.00168934910.0143812380.0202194170.00.00.00.00027915650.00073123450.00586142670.0080644210.00242114020.00413791230.0039135520.0255855450.00.00.000320109360.00.00122135310.00140245470.00688934370.00568285260.00413791230.0063081050.0050912444 to numeric",
      "\nDuring handling of the above exception, another exception occurred:\n",
      "\u001b[0;31mValueError\u001b[0m                                Traceback (most recent call last)",
      "\u001b[0;32m~/opt/anaconda3/lib/python3.7/site-packages/pandas/core/nanops.py\u001b[0m in \u001b[0;36m_ensure_numeric\u001b[0;34m(x)\u001b[0m\n\u001b[1;32m   1303\u001b[0m         \u001b[0;32mtry\u001b[0m\u001b[0;34m:\u001b[0m\u001b[0;34m\u001b[0m\u001b[0;34m\u001b[0m\u001b[0m\n\u001b[0;32m-> 1304\u001b[0;31m             \u001b[0mx\u001b[0m \u001b[0;34m=\u001b[0m \u001b[0mfloat\u001b[0m\u001b[0;34m(\u001b[0m\u001b[0mx\u001b[0m\u001b[0;34m)\u001b[0m\u001b[0;34m\u001b[0m\u001b[0;34m\u001b[0m\u001b[0m\n\u001b[0m\u001b[1;32m   1305\u001b[0m         \u001b[0;32mexcept\u001b[0m \u001b[0mException\u001b[0m\u001b[0;34m:\u001b[0m\u001b[0;34m\u001b[0m\u001b[0;34m\u001b[0m\u001b[0m\n",
      "\u001b[0;31mValueError\u001b[0m: could not convert string to float: '0.00.00.00.00.00.00.00.00.009320219----0.00.00.00.00.00.00.00.00.021203580.02099036--0.000207138890.000207138890.00.00.00.00.00.0133901520.0117889010.011271290.0091286630.000207138890.00058572380.00037858490.00.00.00.00058027560.0143874030.065921760.0122499861.6682280.00029755790.00058572380.00108983090.00071124590.00.00.00058027560.0287368740.0728687052.15599870.00810948850.000180838030.000518163140.00108983090.00210069930.00138945340.00.00192862140.0105737890.078295450.064647020.0197531730.00.00027915650.00103165370.00210069930.00412964630.00274019270.00192862140.0178158020.0768531040.0254759170.0254355020.00.00.00064081550.00193047260.00412964630.0086313270.0076661960.035203120.030065510.0356634260.00.00.00.00.00108203840.00390767960.00728298160.0096340330.0141300820.0187090780.0283999260.0091191520.00.00.00.00.00233497350.0065203720.0082856870.0118142160.0194476530.0144962370.0098759120.00.00.00.00.00.0039551660.00374289860.0080853740.0260026750.0184622090.0106132710.00.00.00.00.00.00.00.0043424750.015690820.0393487330.0357047770.00.00.00.00.000116719880.00.00.00134834590.0130066860.068833790.0463331830.00.00.00.000116719880.000116719880.000239006650.00.00134834590.0178968070.0408896580.075264920.00.09.041902e-050.000116719880.00535572650.000239006650.000390838220.00.0084033840.0332162340.0522477850.00.09.041902e-050.000346717130.00535572650.000629844840.000390838220.000848434170.00717168160.0226176980.118945690.00.00.000180838030.000229997270.00081571250.000629844840.00123927240.000848434170.00215592140.0119383190.051912190.00.00.000180838030.00027915650.000459985980.0064912720.00123927240.00242114020.00168934910.0143812380.0202194170.00.00.00.00027915650.00073123450.00586142670.0080644210.00242114020.00413791230.0039135520.0255855450.00.00.000320109360.00.00122135310.00140245470.00688934370.00568285260.00413791230.0063081050.0050912444'",
      "\nDuring handling of the above exception, another exception occurred:\n",
      "\u001b[0;31mValueError\u001b[0m                                Traceback (most recent call last)",
      "\u001b[0;32m~/opt/anaconda3/lib/python3.7/site-packages/pandas/core/nanops.py\u001b[0m in \u001b[0;36m_ensure_numeric\u001b[0;34m(x)\u001b[0m\n\u001b[1;32m   1306\u001b[0m             \u001b[0;32mtry\u001b[0m\u001b[0;34m:\u001b[0m\u001b[0;34m\u001b[0m\u001b[0;34m\u001b[0m\u001b[0m\n\u001b[0;32m-> 1307\u001b[0;31m                 \u001b[0mx\u001b[0m \u001b[0;34m=\u001b[0m \u001b[0mcomplex\u001b[0m\u001b[0;34m(\u001b[0m\u001b[0mx\u001b[0m\u001b[0;34m)\u001b[0m\u001b[0;34m\u001b[0m\u001b[0;34m\u001b[0m\u001b[0m\n\u001b[0m\u001b[1;32m   1308\u001b[0m             \u001b[0;32mexcept\u001b[0m \u001b[0mException\u001b[0m\u001b[0;34m:\u001b[0m\u001b[0;34m\u001b[0m\u001b[0;34m\u001b[0m\u001b[0m\n",
      "\u001b[0;31mValueError\u001b[0m: complex() arg is a malformed string",
      "\nDuring handling of the above exception, another exception occurred:\n",
      "\u001b[0;31mTypeError\u001b[0m                                 Traceback (most recent call last)",
      "\u001b[0;32m<ipython-input-9-c802adde8a09>\u001b[0m in \u001b[0;36m<module>\u001b[0;34m\u001b[0m\n\u001b[1;32m      2\u001b[0m \u001b[0mfilename\u001b[0m \u001b[0;34m=\u001b[0m \u001b[0;34m'2002-10-22.csv'\u001b[0m\u001b[0;34m\u001b[0m\u001b[0;34m\u001b[0m\u001b[0m\n\u001b[1;32m      3\u001b[0m \u001b[0mdata\u001b[0m \u001b[0;34m=\u001b[0m \u001b[0mpd\u001b[0m\u001b[0;34m.\u001b[0m\u001b[0mread_csv\u001b[0m\u001b[0;34m(\u001b[0m\u001b[0;34m'Precipitation/Precip_csv/'\u001b[0m\u001b[0;34m+\u001b[0m \u001b[0mfilename\u001b[0m\u001b[0;34m)\u001b[0m\u001b[0;34m\u001b[0m\u001b[0;34m\u001b[0m\u001b[0m\n\u001b[0;32m----> 4\u001b[0;31m \u001b[0mdata\u001b[0m\u001b[0;34m[\u001b[0m\u001b[0;34m'Precipitation(mm)'\u001b[0m\u001b[0;34m]\u001b[0m\u001b[0;34m.\u001b[0m\u001b[0mmean\u001b[0m\u001b[0;34m(\u001b[0m\u001b[0;34m)\u001b[0m\u001b[0;34m\u001b[0m\u001b[0;34m\u001b[0m\u001b[0m\n\u001b[0m",
      "\u001b[0;32m~/opt/anaconda3/lib/python3.7/site-packages/pandas/core/generic.py\u001b[0m in \u001b[0;36mstat_func\u001b[0;34m(self, axis, skipna, level, numeric_only, **kwargs)\u001b[0m\n\u001b[1;32m  11616\u001b[0m             \u001b[0;32mreturn\u001b[0m \u001b[0mself\u001b[0m\u001b[0;34m.\u001b[0m\u001b[0m_agg_by_level\u001b[0m\u001b[0;34m(\u001b[0m\u001b[0mname\u001b[0m\u001b[0;34m,\u001b[0m \u001b[0maxis\u001b[0m\u001b[0;34m=\u001b[0m\u001b[0maxis\u001b[0m\u001b[0;34m,\u001b[0m \u001b[0mlevel\u001b[0m\u001b[0;34m=\u001b[0m\u001b[0mlevel\u001b[0m\u001b[0;34m,\u001b[0m \u001b[0mskipna\u001b[0m\u001b[0;34m=\u001b[0m\u001b[0mskipna\u001b[0m\u001b[0;34m)\u001b[0m\u001b[0;34m\u001b[0m\u001b[0;34m\u001b[0m\u001b[0m\n\u001b[1;32m  11617\u001b[0m         return self._reduce(\n\u001b[0;32m> 11618\u001b[0;31m             \u001b[0mf\u001b[0m\u001b[0;34m,\u001b[0m \u001b[0mname\u001b[0m\u001b[0;34m,\u001b[0m \u001b[0maxis\u001b[0m\u001b[0;34m=\u001b[0m\u001b[0maxis\u001b[0m\u001b[0;34m,\u001b[0m \u001b[0mskipna\u001b[0m\u001b[0;34m=\u001b[0m\u001b[0mskipna\u001b[0m\u001b[0;34m,\u001b[0m \u001b[0mnumeric_only\u001b[0m\u001b[0;34m=\u001b[0m\u001b[0mnumeric_only\u001b[0m\u001b[0;34m\u001b[0m\u001b[0;34m\u001b[0m\u001b[0m\n\u001b[0m\u001b[1;32m  11619\u001b[0m         )\n\u001b[1;32m  11620\u001b[0m \u001b[0;34m\u001b[0m\u001b[0m\n",
      "\u001b[0;32m~/opt/anaconda3/lib/python3.7/site-packages/pandas/core/series.py\u001b[0m in \u001b[0;36m_reduce\u001b[0;34m(self, op, name, axis, skipna, numeric_only, filter_type, **kwds)\u001b[0m\n\u001b[1;32m   4085\u001b[0m                 )\n\u001b[1;32m   4086\u001b[0m             \u001b[0;32mwith\u001b[0m \u001b[0mnp\u001b[0m\u001b[0;34m.\u001b[0m\u001b[0merrstate\u001b[0m\u001b[0;34m(\u001b[0m\u001b[0mall\u001b[0m\u001b[0;34m=\u001b[0m\u001b[0;34m\"ignore\"\u001b[0m\u001b[0;34m)\u001b[0m\u001b[0;34m:\u001b[0m\u001b[0;34m\u001b[0m\u001b[0;34m\u001b[0m\u001b[0m\n\u001b[0;32m-> 4087\u001b[0;31m                 \u001b[0;32mreturn\u001b[0m \u001b[0mop\u001b[0m\u001b[0;34m(\u001b[0m\u001b[0mdelegate\u001b[0m\u001b[0;34m,\u001b[0m \u001b[0mskipna\u001b[0m\u001b[0;34m=\u001b[0m\u001b[0mskipna\u001b[0m\u001b[0;34m,\u001b[0m \u001b[0;34m**\u001b[0m\u001b[0mkwds\u001b[0m\u001b[0;34m)\u001b[0m\u001b[0;34m\u001b[0m\u001b[0;34m\u001b[0m\u001b[0m\n\u001b[0m\u001b[1;32m   4088\u001b[0m \u001b[0;34m\u001b[0m\u001b[0m\n\u001b[1;32m   4089\u001b[0m         \u001b[0;31m# TODO(EA) dispatch to Index\u001b[0m\u001b[0;34m\u001b[0m\u001b[0;34m\u001b[0m\u001b[0;34m\u001b[0m\u001b[0m\n",
      "\u001b[0;32m~/opt/anaconda3/lib/python3.7/site-packages/pandas/core/nanops.py\u001b[0m in \u001b[0;36m_f\u001b[0;34m(*args, **kwargs)\u001b[0m\n\u001b[1;32m     68\u001b[0m             \u001b[0;32mtry\u001b[0m\u001b[0;34m:\u001b[0m\u001b[0;34m\u001b[0m\u001b[0;34m\u001b[0m\u001b[0m\n\u001b[1;32m     69\u001b[0m                 \u001b[0;32mwith\u001b[0m \u001b[0mnp\u001b[0m\u001b[0;34m.\u001b[0m\u001b[0merrstate\u001b[0m\u001b[0;34m(\u001b[0m\u001b[0minvalid\u001b[0m\u001b[0;34m=\u001b[0m\u001b[0;34m\"ignore\"\u001b[0m\u001b[0;34m)\u001b[0m\u001b[0;34m:\u001b[0m\u001b[0;34m\u001b[0m\u001b[0;34m\u001b[0m\u001b[0m\n\u001b[0;32m---> 70\u001b[0;31m                     \u001b[0;32mreturn\u001b[0m \u001b[0mf\u001b[0m\u001b[0;34m(\u001b[0m\u001b[0;34m*\u001b[0m\u001b[0margs\u001b[0m\u001b[0;34m,\u001b[0m \u001b[0;34m**\u001b[0m\u001b[0mkwargs\u001b[0m\u001b[0;34m)\u001b[0m\u001b[0;34m\u001b[0m\u001b[0;34m\u001b[0m\u001b[0m\n\u001b[0m\u001b[1;32m     71\u001b[0m             \u001b[0;32mexcept\u001b[0m \u001b[0mValueError\u001b[0m \u001b[0;32mas\u001b[0m \u001b[0me\u001b[0m\u001b[0;34m:\u001b[0m\u001b[0;34m\u001b[0m\u001b[0;34m\u001b[0m\u001b[0m\n\u001b[1;32m     72\u001b[0m                 \u001b[0;31m# we want to transform an object array\u001b[0m\u001b[0;34m\u001b[0m\u001b[0;34m\u001b[0m\u001b[0;34m\u001b[0m\u001b[0m\n",
      "\u001b[0;32m~/opt/anaconda3/lib/python3.7/site-packages/pandas/core/nanops.py\u001b[0m in \u001b[0;36mf\u001b[0;34m(values, axis, skipna, **kwds)\u001b[0m\n\u001b[1;32m    121\u001b[0m             \u001b[0;32mexcept\u001b[0m \u001b[0mException\u001b[0m\u001b[0;34m:\u001b[0m\u001b[0;34m\u001b[0m\u001b[0;34m\u001b[0m\u001b[0m\n\u001b[1;32m    122\u001b[0m                 \u001b[0;32mtry\u001b[0m\u001b[0;34m:\u001b[0m\u001b[0;34m\u001b[0m\u001b[0;34m\u001b[0m\u001b[0m\n\u001b[0;32m--> 123\u001b[0;31m                     \u001b[0mresult\u001b[0m \u001b[0;34m=\u001b[0m \u001b[0malt\u001b[0m\u001b[0;34m(\u001b[0m\u001b[0mvalues\u001b[0m\u001b[0;34m,\u001b[0m \u001b[0maxis\u001b[0m\u001b[0;34m=\u001b[0m\u001b[0maxis\u001b[0m\u001b[0;34m,\u001b[0m \u001b[0mskipna\u001b[0m\u001b[0;34m=\u001b[0m\u001b[0mskipna\u001b[0m\u001b[0;34m,\u001b[0m \u001b[0;34m**\u001b[0m\u001b[0mkwds\u001b[0m\u001b[0;34m)\u001b[0m\u001b[0;34m\u001b[0m\u001b[0;34m\u001b[0m\u001b[0m\n\u001b[0m\u001b[1;32m    124\u001b[0m                 \u001b[0;32mexcept\u001b[0m \u001b[0mValueError\u001b[0m \u001b[0;32mas\u001b[0m \u001b[0me\u001b[0m\u001b[0;34m:\u001b[0m\u001b[0;34m\u001b[0m\u001b[0;34m\u001b[0m\u001b[0m\n\u001b[1;32m    125\u001b[0m                     \u001b[0;31m# we want to transform an object array\u001b[0m\u001b[0;34m\u001b[0m\u001b[0;34m\u001b[0m\u001b[0;34m\u001b[0m\u001b[0m\n",
      "\u001b[0;32m~/opt/anaconda3/lib/python3.7/site-packages/pandas/core/nanops.py\u001b[0m in \u001b[0;36mnanmean\u001b[0;34m(values, axis, skipna, mask)\u001b[0m\n\u001b[1;32m    549\u001b[0m         \u001b[0mdtype_count\u001b[0m \u001b[0;34m=\u001b[0m \u001b[0mdtype\u001b[0m\u001b[0;34m\u001b[0m\u001b[0;34m\u001b[0m\u001b[0m\n\u001b[1;32m    550\u001b[0m     \u001b[0mcount\u001b[0m \u001b[0;34m=\u001b[0m \u001b[0m_get_counts\u001b[0m\u001b[0;34m(\u001b[0m\u001b[0mvalues\u001b[0m\u001b[0;34m.\u001b[0m\u001b[0mshape\u001b[0m\u001b[0;34m,\u001b[0m \u001b[0mmask\u001b[0m\u001b[0;34m,\u001b[0m \u001b[0maxis\u001b[0m\u001b[0;34m,\u001b[0m \u001b[0mdtype\u001b[0m\u001b[0;34m=\u001b[0m\u001b[0mdtype_count\u001b[0m\u001b[0;34m)\u001b[0m\u001b[0;34m\u001b[0m\u001b[0;34m\u001b[0m\u001b[0m\n\u001b[0;32m--> 551\u001b[0;31m     \u001b[0mthe_sum\u001b[0m \u001b[0;34m=\u001b[0m \u001b[0m_ensure_numeric\u001b[0m\u001b[0;34m(\u001b[0m\u001b[0mvalues\u001b[0m\u001b[0;34m.\u001b[0m\u001b[0msum\u001b[0m\u001b[0;34m(\u001b[0m\u001b[0maxis\u001b[0m\u001b[0;34m,\u001b[0m \u001b[0mdtype\u001b[0m\u001b[0;34m=\u001b[0m\u001b[0mdtype_sum\u001b[0m\u001b[0;34m)\u001b[0m\u001b[0;34m)\u001b[0m\u001b[0;34m\u001b[0m\u001b[0;34m\u001b[0m\u001b[0m\n\u001b[0m\u001b[1;32m    552\u001b[0m \u001b[0;34m\u001b[0m\u001b[0m\n\u001b[1;32m    553\u001b[0m     \u001b[0;32mif\u001b[0m \u001b[0maxis\u001b[0m \u001b[0;32mis\u001b[0m \u001b[0;32mnot\u001b[0m \u001b[0;32mNone\u001b[0m \u001b[0;32mand\u001b[0m \u001b[0mgetattr\u001b[0m\u001b[0;34m(\u001b[0m\u001b[0mthe_sum\u001b[0m\u001b[0;34m,\u001b[0m \u001b[0;34m\"ndim\"\u001b[0m\u001b[0;34m,\u001b[0m \u001b[0;32mFalse\u001b[0m\u001b[0;34m)\u001b[0m\u001b[0;34m:\u001b[0m\u001b[0;34m\u001b[0m\u001b[0;34m\u001b[0m\u001b[0m\n",
      "\u001b[0;32m~/opt/anaconda3/lib/python3.7/site-packages/pandas/core/nanops.py\u001b[0m in \u001b[0;36m_ensure_numeric\u001b[0;34m(x)\u001b[0m\n\u001b[1;32m   1308\u001b[0m             \u001b[0;32mexcept\u001b[0m \u001b[0mException\u001b[0m\u001b[0;34m:\u001b[0m\u001b[0;34m\u001b[0m\u001b[0;34m\u001b[0m\u001b[0m\n\u001b[1;32m   1309\u001b[0m                 raise TypeError(\n\u001b[0;32m-> 1310\u001b[0;31m                     \u001b[0;34m\"Could not convert {value!s} to numeric\"\u001b[0m\u001b[0;34m.\u001b[0m\u001b[0mformat\u001b[0m\u001b[0;34m(\u001b[0m\u001b[0mvalue\u001b[0m\u001b[0;34m=\u001b[0m\u001b[0mx\u001b[0m\u001b[0;34m)\u001b[0m\u001b[0;34m\u001b[0m\u001b[0;34m\u001b[0m\u001b[0m\n\u001b[0m\u001b[1;32m   1311\u001b[0m                 )\n\u001b[1;32m   1312\u001b[0m     \u001b[0;32mreturn\u001b[0m \u001b[0mx\u001b[0m\u001b[0;34m\u001b[0m\u001b[0;34m\u001b[0m\u001b[0m\n",
      "\u001b[0;31mTypeError\u001b[0m: Could not convert 0.00.00.00.00.00.00.00.00.009320219----0.00.00.00.00.00.00.00.00.021203580.02099036--0.000207138890.000207138890.00.00.00.00.00.0133901520.0117889010.011271290.0091286630.000207138890.00058572380.00037858490.00.00.00.00058027560.0143874030.065921760.0122499861.6682280.00029755790.00058572380.00108983090.00071124590.00.00.00058027560.0287368740.0728687052.15599870.00810948850.000180838030.000518163140.00108983090.00210069930.00138945340.00.00192862140.0105737890.078295450.064647020.0197531730.00.00027915650.00103165370.00210069930.00412964630.00274019270.00192862140.0178158020.0768531040.0254759170.0254355020.00.00.00064081550.00193047260.00412964630.0086313270.0076661960.035203120.030065510.0356634260.00.00.00.00.00108203840.00390767960.00728298160.0096340330.0141300820.0187090780.0283999260.0091191520.00.00.00.00.00233497350.0065203720.0082856870.0118142160.0194476530.0144962370.0098759120.00.00.00.00.00.0039551660.00374289860.0080853740.0260026750.0184622090.0106132710.00.00.00.00.00.00.00.0043424750.015690820.0393487330.0357047770.00.00.00.00.000116719880.00.00.00134834590.0130066860.068833790.0463331830.00.00.00.000116719880.000116719880.000239006650.00.00134834590.0178968070.0408896580.075264920.00.09.041902e-050.000116719880.00535572650.000239006650.000390838220.00.0084033840.0332162340.0522477850.00.09.041902e-050.000346717130.00535572650.000629844840.000390838220.000848434170.00717168160.0226176980.118945690.00.00.000180838030.000229997270.00081571250.000629844840.00123927240.000848434170.00215592140.0119383190.051912190.00.00.000180838030.00027915650.000459985980.0064912720.00123927240.00242114020.00168934910.0143812380.0202194170.00.00.00.00027915650.00073123450.00586142670.0080644210.00242114020.00413791230.0039135520.0255855450.00.00.000320109360.00.00122135310.00140245470.00688934370.00568285260.00413791230.0063081050.0050912444 to numeric"
     ]
    }
   ],
   "source": [
    "import pandas as pd\n",
    "filename = '2002-10-22.csv'\n",
    "data = pd.read_csv('Precipitation/Precip_csv/'+ filename)\n",
    "data['Precipitation(mm)'].mean()\n"
   ]
  },
  {
   "cell_type": "code",
   "execution_count": 10,
   "metadata": {},
   "outputs": [
    {
     "data": {
      "text/plain": [
       "0.02600709221087561"
      ]
     },
     "execution_count": 10,
     "metadata": {},
     "output_type": "execute_result"
    }
   ],
   "source": [
    "import numpy as np\n",
    "filename = '2002-10-22.csv'\n",
    "data = pd.read_csv(filename)\n",
    "data['Precipitation(mm)'].replace('--', np.nan, inplace=True)\n",
    "data.dropna(subset=['Precipitation(mm)'], inplace=True)\n",
    "precipitation = pd.to_numeric(data['Precipitation(mm)'])\n",
    "precipitation\n",
    "precipitation.mean()\n"
   ]
  },
  {
   "cell_type": "code",
   "execution_count": 11,
   "metadata": {},
   "outputs": [
    {
     "data": {
      "text/plain": [
       "0.030363407374074076"
      ]
     },
     "execution_count": 11,
     "metadata": {},
     "output_type": "execute_result"
    }
   ],
   "source": [
    "import pandas as pd\n",
    "filename = '2002-10-21.csv'\n",
    "data = pd.read_csv('Precipitation/Precip_csv/'+ filename)\n",
    "data['Precipitation(mm)'].mean()\n"
   ]
  },
  {
   "cell_type": "code",
   "execution_count": 12,
   "metadata": {},
   "outputs": [
    {
     "data": {
      "text/plain": [
       "0.030363407374074076"
      ]
     },
     "execution_count": 12,
     "metadata": {},
     "output_type": "execute_result"
    }
   ],
   "source": [
    "import pandas as pd\n",
    "filename = '2002-10-21.csv'\n",
    "data = pd.read_csv('Precipitation/Precip_csv/'+ filename)\n",
    "data['Precipitation(mm)'].replace('--', np.nan, inplace=True)\n",
    "data.dropna(subset=['Precipitation(mm)'], inplace=True)\n",
    "precipitation = pd.to_numeric(data['Precipitation(mm)'])\n",
    "precipitation\n",
    "precipitation.mean()\n"
   ]
  },
  {
   "cell_type": "code",
   "execution_count": 13,
   "metadata": {},
   "outputs": [],
   "source": [
    "precip_amt = []\n",
    "precip_dates2 = []\n",
    "for dates in precip_dates:\n",
    "    filename = dates + '.csv'\n",
    "    data = pd.read_csv('Precipitation/Precip_csv/'+ filename)\n",
    "    data['Precipitation(mm)'].replace('--', np.nan, inplace=True)\n",
    "    data.dropna(subset=['Precipitation(mm)'], inplace=True)\n",
    "    precipitation = pd.to_numeric(data['Precipitation(mm)'])\n",
    "    precip_amt.append(precipitation.mean())\n",
    "    precip_dates2.append(dates)\n",
    "    "
   ]
  },
  {
   "cell_type": "code",
   "execution_count": 14,
   "metadata": {},
   "outputs": [
    {
     "name": "stdout",
     "output_type": "stream",
     "text": [
      "377\n",
      "377\n"
     ]
    }
   ],
   "source": [
    "print(len(precip_dates2))\n",
    "print(len(precip_amt))"
   ]
  },
  {
   "cell_type": "code",
   "execution_count": 15,
   "metadata": {},
   "outputs": [
    {
     "data": {
      "text/html": [
       "<div>\n",
       "<style scoped>\n",
       "    .dataframe tbody tr th:only-of-type {\n",
       "        vertical-align: middle;\n",
       "    }\n",
       "\n",
       "    .dataframe tbody tr th {\n",
       "        vertical-align: top;\n",
       "    }\n",
       "\n",
       "    .dataframe thead th {\n",
       "        text-align: right;\n",
       "    }\n",
       "</style>\n",
       "<table border=\"1\" class=\"dataframe\">\n",
       "  <thead>\n",
       "    <tr style=\"text-align: right;\">\n",
       "      <th></th>\n",
       "      <th>Date</th>\n",
       "      <th>Precipitation(mm)</th>\n",
       "    </tr>\n",
       "  </thead>\n",
       "  <tbody>\n",
       "    <tr>\n",
       "      <td>0</td>\n",
       "      <td>2002-10-21</td>\n",
       "      <td>0.030363</td>\n",
       "    </tr>\n",
       "    <tr>\n",
       "      <td>1</td>\n",
       "      <td>2002-10-22</td>\n",
       "      <td>0.026007</td>\n",
       "    </tr>\n",
       "    <tr>\n",
       "      <td>2</td>\n",
       "      <td>2002-10-23</td>\n",
       "      <td>0.017095</td>\n",
       "    </tr>\n",
       "    <tr>\n",
       "      <td>3</td>\n",
       "      <td>2002-10-24</td>\n",
       "      <td>0.005773</td>\n",
       "    </tr>\n",
       "    <tr>\n",
       "      <td>4</td>\n",
       "      <td>2002-10-25</td>\n",
       "      <td>0.026458</td>\n",
       "    </tr>\n",
       "  </tbody>\n",
       "</table>\n",
       "</div>"
      ],
      "text/plain": [
       "         Date  Precipitation(mm)\n",
       "0  2002-10-21           0.030363\n",
       "1  2002-10-22           0.026007\n",
       "2  2002-10-23           0.017095\n",
       "3  2002-10-24           0.005773\n",
       "4  2002-10-25           0.026458"
      ]
     },
     "execution_count": 15,
     "metadata": {},
     "output_type": "execute_result"
    }
   ],
   "source": [
    "df = pd.DataFrame({\"Date\": precip_dates2, \"Precipitation(mm)\": precip_amt})\n",
    "df.head(5)"
   ]
  },
  {
   "cell_type": "code",
   "execution_count": 17,
   "metadata": {},
   "outputs": [
    {
     "name": "stdout",
     "output_type": "stream",
     "text": [
      "377\n",
      "[('2002-10-21', 0.030363407374074076), ('2002-10-22', 0.02600709221087561), ('2002-10-23', 0.017095480236359442), ('2002-10-24', 0.005773034435458713), ('2002-10-25', 0.02645837523532111)]\n"
     ]
    }
   ],
   "source": [
    "precip = list(zip(precip_dates2,precip_amt))\n",
    "print(len(precip))\n",
    "print(precip[0:5])"
   ]
  },
  {
   "cell_type": "code",
   "execution_count": 18,
   "metadata": {},
   "outputs": [],
   "source": [
    "dates_binary = []\n",
    "for i in precip_dates2:\n",
    "    if i in dust_dates:\n",
    "        dates_binary.append(1)\n",
    "    else:\n",
    "        dates_binary.append(0)"
   ]
  },
  {
   "cell_type": "code",
   "execution_count": 19,
   "metadata": {},
   "outputs": [
    {
     "name": "stdout",
     "output_type": "stream",
     "text": [
      "377\n",
      "[0, 1, 1, 0, 0, 0, 1, 0, 0, 0]\n"
     ]
    }
   ],
   "source": [
    "print(len(dates_binary))\n",
    "print(dates_binary[0:10])"
   ]
  },
  {
   "cell_type": "code",
   "execution_count": 20,
   "metadata": {},
   "outputs": [
    {
     "name": "stdout",
     "output_type": "stream",
     "text": [
      "['2002-10-21', '2002-10-22', '2002-10-23', '2002-10-24', '2002-10-25', '2003-01-18', '2003-01-19', '2003-01-20', '2003-01-21', '2003-03-07']\n",
      "['2002-10-22', '2002-10-23', '2003-01-19', '2003-01-19', '2003-03-09', '2003-03-11', '2003-03-12', '2003-03-12', '2003-03-12', '2003-03-12']\n"
     ]
    }
   ],
   "source": [
    "#Making sure it is correct\n",
    "print(precip_dates2[0:10])\n",
    "print(dust_dates[0:10])"
   ]
  },
  {
   "cell_type": "code",
   "execution_count": 21,
   "metadata": {},
   "outputs": [
    {
     "name": "stdout",
     "output_type": "stream",
     "text": [
      "112\n",
      "['2002-10-22', '2002-10-23', '2003-01-19', '2003-03-09', '2003-03-11', '2003-03-12', '2003-03-13', '2003-09-15', '2003-09-18', '2003-10-30']\n"
     ]
    }
   ],
   "source": [
    "#try with removing duplicates to see if get similar result\n",
    "dust_dates2 = list(dict.fromkeys(dust_dates))\n",
    "print(len(dust_dates2))\n",
    "print(dust_dates2[0:10])"
   ]
  },
  {
   "cell_type": "code",
   "execution_count": 22,
   "metadata": {},
   "outputs": [],
   "source": [
    "dates_binary2 = []\n",
    "for i in precip_dates2:\n",
    "    if i in dust_dates2:\n",
    "        dates_binary2.append(1)\n",
    "    else:\n",
    "        dates_binary2.append(0)"
   ]
  },
  {
   "cell_type": "code",
   "execution_count": 23,
   "metadata": {},
   "outputs": [
    {
     "name": "stdout",
     "output_type": "stream",
     "text": [
      "377\n",
      "[0, 1, 1, 0, 0, 0, 1, 0, 0, 0]\n"
     ]
    }
   ],
   "source": [
    "print(len(dates_binary2))\n",
    "print(dates_binary2[0:10])\n",
    "#Same Results"
   ]
  },
  {
   "cell_type": "code",
   "execution_count": 24,
   "metadata": {},
   "outputs": [
    {
     "data": {
      "text/html": [
       "<div>\n",
       "<style scoped>\n",
       "    .dataframe tbody tr th:only-of-type {\n",
       "        vertical-align: middle;\n",
       "    }\n",
       "\n",
       "    .dataframe tbody tr th {\n",
       "        vertical-align: top;\n",
       "    }\n",
       "\n",
       "    .dataframe thead th {\n",
       "        text-align: right;\n",
       "    }\n",
       "</style>\n",
       "<table border=\"1\" class=\"dataframe\">\n",
       "  <thead>\n",
       "    <tr style=\"text-align: right;\">\n",
       "      <th></th>\n",
       "      <th>Date_bin</th>\n",
       "      <th>Precip_avg(mm)</th>\n",
       "    </tr>\n",
       "  </thead>\n",
       "  <tbody>\n",
       "    <tr>\n",
       "      <td>0</td>\n",
       "      <td>0</td>\n",
       "      <td>0.030363</td>\n",
       "    </tr>\n",
       "    <tr>\n",
       "      <td>1</td>\n",
       "      <td>1</td>\n",
       "      <td>0.026007</td>\n",
       "    </tr>\n",
       "    <tr>\n",
       "      <td>2</td>\n",
       "      <td>1</td>\n",
       "      <td>0.017095</td>\n",
       "    </tr>\n",
       "    <tr>\n",
       "      <td>3</td>\n",
       "      <td>0</td>\n",
       "      <td>0.005773</td>\n",
       "    </tr>\n",
       "    <tr>\n",
       "      <td>4</td>\n",
       "      <td>0</td>\n",
       "      <td>0.026458</td>\n",
       "    </tr>\n",
       "    <tr>\n",
       "      <td>5</td>\n",
       "      <td>0</td>\n",
       "      <td>0.270050</td>\n",
       "    </tr>\n",
       "    <tr>\n",
       "      <td>6</td>\n",
       "      <td>1</td>\n",
       "      <td>0.204496</td>\n",
       "    </tr>\n",
       "    <tr>\n",
       "      <td>7</td>\n",
       "      <td>0</td>\n",
       "      <td>0.000301</td>\n",
       "    </tr>\n",
       "    <tr>\n",
       "      <td>8</td>\n",
       "      <td>0</td>\n",
       "      <td>0.451951</td>\n",
       "    </tr>\n",
       "    <tr>\n",
       "      <td>9</td>\n",
       "      <td>0</td>\n",
       "      <td>0.366921</td>\n",
       "    </tr>\n",
       "  </tbody>\n",
       "</table>\n",
       "</div>"
      ],
      "text/plain": [
       "   Date_bin  Precip_avg(mm)\n",
       "0         0        0.030363\n",
       "1         1        0.026007\n",
       "2         1        0.017095\n",
       "3         0        0.005773\n",
       "4         0        0.026458\n",
       "5         0        0.270050\n",
       "6         1        0.204496\n",
       "7         0        0.000301\n",
       "8         0        0.451951\n",
       "9         0        0.366921"
      ]
     },
     "execution_count": 24,
     "metadata": {},
     "output_type": "execute_result"
    }
   ],
   "source": [
    "df2 = pd.DataFrame({\"Date_bin\": dates_binary2, \"Precip_avg(mm)\": precip_amt})\n",
    "df2.head(10)"
   ]
  },
  {
   "cell_type": "code",
   "execution_count": 25,
   "metadata": {},
   "outputs": [],
   "source": [
    "dust_dates3 = []\n",
    "for i in precip_dates2:\n",
    "    if i in dust_dates2:\n",
    "        dust_dates3.append(i)\n",
    "    else:\n",
    "        dust_dates3.append('-')"
   ]
  },
  {
   "cell_type": "code",
   "execution_count": 26,
   "metadata": {},
   "outputs": [
    {
     "data": {
      "text/html": [
       "<div>\n",
       "<style scoped>\n",
       "    .dataframe tbody tr th:only-of-type {\n",
       "        vertical-align: middle;\n",
       "    }\n",
       "\n",
       "    .dataframe tbody tr th {\n",
       "        vertical-align: top;\n",
       "    }\n",
       "\n",
       "    .dataframe thead th {\n",
       "        text-align: right;\n",
       "    }\n",
       "</style>\n",
       "<table border=\"1\" class=\"dataframe\">\n",
       "  <thead>\n",
       "    <tr style=\"text-align: right;\">\n",
       "      <th></th>\n",
       "      <th>Precip_Date</th>\n",
       "      <th>Dust_Date</th>\n",
       "      <th>Date_bin</th>\n",
       "      <th>Precip_avg(mm)</th>\n",
       "    </tr>\n",
       "  </thead>\n",
       "  <tbody>\n",
       "    <tr>\n",
       "      <td>0</td>\n",
       "      <td>2002-10-21</td>\n",
       "      <td>-</td>\n",
       "      <td>0</td>\n",
       "      <td>0.030363</td>\n",
       "    </tr>\n",
       "    <tr>\n",
       "      <td>1</td>\n",
       "      <td>2002-10-22</td>\n",
       "      <td>2002-10-22</td>\n",
       "      <td>1</td>\n",
       "      <td>0.026007</td>\n",
       "    </tr>\n",
       "    <tr>\n",
       "      <td>2</td>\n",
       "      <td>2002-10-23</td>\n",
       "      <td>2002-10-23</td>\n",
       "      <td>1</td>\n",
       "      <td>0.017095</td>\n",
       "    </tr>\n",
       "    <tr>\n",
       "      <td>3</td>\n",
       "      <td>2002-10-24</td>\n",
       "      <td>-</td>\n",
       "      <td>0</td>\n",
       "      <td>0.005773</td>\n",
       "    </tr>\n",
       "    <tr>\n",
       "      <td>4</td>\n",
       "      <td>2002-10-25</td>\n",
       "      <td>-</td>\n",
       "      <td>0</td>\n",
       "      <td>0.026458</td>\n",
       "    </tr>\n",
       "    <tr>\n",
       "      <td>5</td>\n",
       "      <td>2003-01-18</td>\n",
       "      <td>-</td>\n",
       "      <td>0</td>\n",
       "      <td>0.270050</td>\n",
       "    </tr>\n",
       "    <tr>\n",
       "      <td>6</td>\n",
       "      <td>2003-01-19</td>\n",
       "      <td>2003-01-19</td>\n",
       "      <td>1</td>\n",
       "      <td>0.204496</td>\n",
       "    </tr>\n",
       "    <tr>\n",
       "      <td>7</td>\n",
       "      <td>2003-01-20</td>\n",
       "      <td>-</td>\n",
       "      <td>0</td>\n",
       "      <td>0.000301</td>\n",
       "    </tr>\n",
       "    <tr>\n",
       "      <td>8</td>\n",
       "      <td>2003-01-21</td>\n",
       "      <td>-</td>\n",
       "      <td>0</td>\n",
       "      <td>0.451951</td>\n",
       "    </tr>\n",
       "    <tr>\n",
       "      <td>9</td>\n",
       "      <td>2003-03-07</td>\n",
       "      <td>-</td>\n",
       "      <td>0</td>\n",
       "      <td>0.366921</td>\n",
       "    </tr>\n",
       "  </tbody>\n",
       "</table>\n",
       "</div>"
      ],
      "text/plain": [
       "  Precip_Date   Dust_Date  Date_bin  Precip_avg(mm)\n",
       "0  2002-10-21           -         0        0.030363\n",
       "1  2002-10-22  2002-10-22         1        0.026007\n",
       "2  2002-10-23  2002-10-23         1        0.017095\n",
       "3  2002-10-24           -         0        0.005773\n",
       "4  2002-10-25           -         0        0.026458\n",
       "5  2003-01-18           -         0        0.270050\n",
       "6  2003-01-19  2003-01-19         1        0.204496\n",
       "7  2003-01-20           -         0        0.000301\n",
       "8  2003-01-21           -         0        0.451951\n",
       "9  2003-03-07           -         0        0.366921"
      ]
     },
     "execution_count": 26,
     "metadata": {},
     "output_type": "execute_result"
    }
   ],
   "source": [
    "dfcheck = pd.DataFrame({\"Precip_Date\": precip_dates2, \n",
    "                        \"Dust_Date\":dust_dates3,\n",
    "                        \"Date_bin\": dates_binary2, \n",
    "                        \"Precip_avg(mm)\": precip_amt})\n",
    "dfcheck.head(10)"
   ]
  },
  {
   "cell_type": "code",
   "execution_count": 101,
   "metadata": {},
   "outputs": [],
   "source": [
    "df2.to_csv(\"Precip_Binary.csv\", index = False)"
   ]
  },
  {
   "cell_type": "code",
   "execution_count": 27,
   "metadata": {},
   "outputs": [],
   "source": [
    "dfcheck.to_csv(\"Precip_Check.csv\", index = False)"
   ]
  },
  {
   "cell_type": "code",
   "execution_count": 32,
   "metadata": {},
   "outputs": [],
   "source": [
    "#Separating into Day of, before etc.\n",
    "dates_before = ['2002-10-21', '2003-01-18', '2003-03-08', '2003-09-14', '2003-10-29', '2004-10-04', '2005-01-10', '2005-01-16', '2005-11-03', '2006-07-17','2006-10-27', '2006-10-31', '2006-11-12', '2006-11-16','2007-04-12','2007-07-05','2007-08-26','2007-10-23','2007-12-08','2008-12-21','2009-01-15','2009-01-21','2009-01-29','2009-02-16','2009-02-27','2009-03-27','2009-06-20','2009-07-04','2009-08-04','2009-09-10','2009-09-19','2009-09-29','2009-10-12', '2009-10-24','2009-10-28','2009-11-03','2009-12-24','2010-01-02','2010-01-07','2010-01-11','2010-01-23','2010-02-08','2010-03-22','2010-04-18','2010-08-17','2010-11-30','2010-12-22','2011-01-11','2011-11-01','2012-10-22','2012-11-06','2012-12-03','2013-11-07','2013-11-15','2014-10-27','2015-03-31','2015-04-23','2015-05-19','2015-11-12','2016-02-19','2016-10-05','2016-10-22','2017-11-06','2018-01-19','2018-01-27','2018-02-02','2018-02-16','2018-05-07','2018-10-30','2019-02-24','2019-03-25','2019-11-08']\n",
    "date_after1 =['2002-10-24', '2003-01-20', '2003-03-14', '2003-09-16', '2003-09-19','2003-10-31', '2003-11-04', '2004-10-06', '2005-01-12', '2005-01-18','2005-11-06', '2006-07-19','2006-10-29','2006-11-07', '2006-11-14','2006-11-20','2006-11-25','2007-04-14','2007-07-07','2007-08-28','2007-10-25','2007-12-10','2008-12-23','2009-01-11','2009-01-17','2009-01-24','2009-01-31','2009-02-18','2009-03-01','2009-03-29','2009-04-06','2009-06-25','2009-07-06','2009-08-06','2009-09-12','2009-09-21','2009-09-24','2009-10-01','2009-10-14','2009-10-26','2009-10-31','2009-11-06','2009-12-26','2010-01-04','2010-01-09','2010-01-13','2010-01-26','2010-02-10','2010-03-24','2010-04-20','2010-08-19','2010-12-02','2010-12-24','2011-01-13','2011-11-03','2012-10-28','2012-11-08','2012-12-05','2013-11-09','2013-11-18','2014-10-29','2015-04-03','2015-04-25','2015-05-23','2015-11-14','2016-02-21','2016-10-07','2016-10-26','2017-11-09','2017-11-16','2017-11-19','2018-01-21','2018-01-29','2018-02-04','2018-02-18','2018-05-09','2018-11-02','2019-02-26','2019-03-27','2019-11-10']\n",
    "date_after2 =['2002-10-25', '2003-01-21','2003-03-15', '2003-09-20', '2003-11-05', '2004-10-07', '2005-01-13', '2005-01-19', '2005-11-07', '2006-07-20', '2006-10-30', '2006-11-08','2006-11-15','2006-11-26','2007-04-15','2007-07-08', '2007-08-29','2007-10-26','2007-12-11','2008-12-24','2009-01-12','2009-01-18','2009-01-25','2009-02-01','2009-02-19','2009-03-02','2009-03-30','2009-04-07','2009-06-26','2009-07-07','2009-08-07','2009-09-13','2009-09-25','2009-10-02','2009-10-15','2009-10-27','2009-11-01','2009-11-07','2009-12-27','2010-01-05','2010-01-10','2010-01-14','2010-01-27','2010-02-11','2010-03-25','2010-04-21','2010-08-20','2010-12-03','2010-12-25','2011-01-14','2011-11-04','2012-10-29','2012-11-09','2012-12-06','2013-11-10','2013-11-19','2014-10-30','2015-04-04','2015-04-26','2015-05-24','2015-11-15','2016-02-22','2016-10-08','2016-10-27','2017-11-20','2018-01-22','2018-01-30','2018-02-05','2018-02-19','2018-05-10','2018-11-03','2019-02-27','2019-03-28','2019-11-11']\n",
    "\n",
    "days = []\n",
    "for i in precip_dates2:\n",
    "    if i in dust_dates2:\n",
    "        days.append('day_of')\n",
    "    elif i in dates_before:\n",
    "        days.append('day_before')\n",
    "    elif i in date_after1:\n",
    "        days.append('1day_after')\n",
    "    elif i in date_after2:\n",
    "        days.append('2days_after')\n",
    "    else:\n",
    "        days.append('-')\n",
    "\n"
   ]
  },
  {
   "cell_type": "code",
   "execution_count": 33,
   "metadata": {},
   "outputs": [
    {
     "data": {
      "text/html": [
       "<div>\n",
       "<style scoped>\n",
       "    .dataframe tbody tr th:only-of-type {\n",
       "        vertical-align: middle;\n",
       "    }\n",
       "\n",
       "    .dataframe tbody tr th {\n",
       "        vertical-align: top;\n",
       "    }\n",
       "\n",
       "    .dataframe thead th {\n",
       "        text-align: right;\n",
       "    }\n",
       "</style>\n",
       "<table border=\"1\" class=\"dataframe\">\n",
       "  <thead>\n",
       "    <tr style=\"text-align: right;\">\n",
       "      <th></th>\n",
       "      <th>Precip_Date</th>\n",
       "      <th>Days</th>\n",
       "      <th>Date_bin</th>\n",
       "      <th>Precip_avg(mm)</th>\n",
       "    </tr>\n",
       "  </thead>\n",
       "  <tbody>\n",
       "    <tr>\n",
       "      <td>0</td>\n",
       "      <td>2002-10-21</td>\n",
       "      <td>day_before</td>\n",
       "      <td>0</td>\n",
       "      <td>0.030363</td>\n",
       "    </tr>\n",
       "    <tr>\n",
       "      <td>1</td>\n",
       "      <td>2002-10-22</td>\n",
       "      <td>day_of</td>\n",
       "      <td>1</td>\n",
       "      <td>0.026007</td>\n",
       "    </tr>\n",
       "    <tr>\n",
       "      <td>2</td>\n",
       "      <td>2002-10-23</td>\n",
       "      <td>day_of</td>\n",
       "      <td>1</td>\n",
       "      <td>0.017095</td>\n",
       "    </tr>\n",
       "    <tr>\n",
       "      <td>3</td>\n",
       "      <td>2002-10-24</td>\n",
       "      <td>1day_after</td>\n",
       "      <td>0</td>\n",
       "      <td>0.005773</td>\n",
       "    </tr>\n",
       "    <tr>\n",
       "      <td>4</td>\n",
       "      <td>2002-10-25</td>\n",
       "      <td>2days_after</td>\n",
       "      <td>0</td>\n",
       "      <td>0.026458</td>\n",
       "    </tr>\n",
       "    <tr>\n",
       "      <td>5</td>\n",
       "      <td>2003-01-18</td>\n",
       "      <td>day_before</td>\n",
       "      <td>0</td>\n",
       "      <td>0.270050</td>\n",
       "    </tr>\n",
       "    <tr>\n",
       "      <td>6</td>\n",
       "      <td>2003-01-19</td>\n",
       "      <td>day_of</td>\n",
       "      <td>1</td>\n",
       "      <td>0.204496</td>\n",
       "    </tr>\n",
       "    <tr>\n",
       "      <td>7</td>\n",
       "      <td>2003-01-20</td>\n",
       "      <td>1day_after</td>\n",
       "      <td>0</td>\n",
       "      <td>0.000301</td>\n",
       "    </tr>\n",
       "    <tr>\n",
       "      <td>8</td>\n",
       "      <td>2003-01-21</td>\n",
       "      <td>2days_after</td>\n",
       "      <td>0</td>\n",
       "      <td>0.451951</td>\n",
       "    </tr>\n",
       "    <tr>\n",
       "      <td>9</td>\n",
       "      <td>2003-03-07</td>\n",
       "      <td>-</td>\n",
       "      <td>0</td>\n",
       "      <td>0.366921</td>\n",
       "    </tr>\n",
       "  </tbody>\n",
       "</table>\n",
       "</div>"
      ],
      "text/plain": [
       "  Precip_Date         Days  Date_bin  Precip_avg(mm)\n",
       "0  2002-10-21   day_before         0        0.030363\n",
       "1  2002-10-22       day_of         1        0.026007\n",
       "2  2002-10-23       day_of         1        0.017095\n",
       "3  2002-10-24   1day_after         0        0.005773\n",
       "4  2002-10-25  2days_after         0        0.026458\n",
       "5  2003-01-18   day_before         0        0.270050\n",
       "6  2003-01-19       day_of         1        0.204496\n",
       "7  2003-01-20   1day_after         0        0.000301\n",
       "8  2003-01-21  2days_after         0        0.451951\n",
       "9  2003-03-07            -         0        0.366921"
      ]
     },
     "execution_count": 33,
     "metadata": {},
     "output_type": "execute_result"
    }
   ],
   "source": [
    "df3 = pd.DataFrame({\"Precip_Date\": precip_dates2, \n",
    "                        \"Days\":days,\n",
    "                        \"Date_bin\": dates_binary2, \n",
    "                        \"Precip_avg(mm)\": precip_amt})\n",
    "df3.head(10)"
   ]
  },
  {
   "cell_type": "code",
   "execution_count": 34,
   "metadata": {},
   "outputs": [],
   "source": [
    "df3.to_csv(\"Precip_days.csv\", index = False)"
   ]
  },
  {
   "cell_type": "code",
   "execution_count": 36,
   "metadata": {},
   "outputs": [
    {
     "data": {
      "text/html": [
       "<div>\n",
       "<style scoped>\n",
       "    .dataframe tbody tr th:only-of-type {\n",
       "        vertical-align: middle;\n",
       "    }\n",
       "\n",
       "    .dataframe tbody tr th {\n",
       "        vertical-align: top;\n",
       "    }\n",
       "\n",
       "    .dataframe thead th {\n",
       "        text-align: right;\n",
       "    }\n",
       "</style>\n",
       "<table border=\"1\" class=\"dataframe\">\n",
       "  <thead>\n",
       "    <tr style=\"text-align: right;\">\n",
       "      <th></th>\n",
       "      <th>Precip_Date</th>\n",
       "      <th>Days</th>\n",
       "      <th>Date_bin</th>\n",
       "      <th>Precip_avg(mm)</th>\n",
       "    </tr>\n",
       "  </thead>\n",
       "  <tbody>\n",
       "    <tr>\n",
       "      <td>1</td>\n",
       "      <td>2002-10-22</td>\n",
       "      <td>day_of</td>\n",
       "      <td>1</td>\n",
       "      <td>0.026007</td>\n",
       "    </tr>\n",
       "    <tr>\n",
       "      <td>2</td>\n",
       "      <td>2002-10-23</td>\n",
       "      <td>day_of</td>\n",
       "      <td>1</td>\n",
       "      <td>0.017095</td>\n",
       "    </tr>\n",
       "    <tr>\n",
       "      <td>6</td>\n",
       "      <td>2003-01-19</td>\n",
       "      <td>day_of</td>\n",
       "      <td>1</td>\n",
       "      <td>0.204496</td>\n",
       "    </tr>\n",
       "    <tr>\n",
       "      <td>11</td>\n",
       "      <td>2003-03-09</td>\n",
       "      <td>day_of</td>\n",
       "      <td>1</td>\n",
       "      <td>0.096158</td>\n",
       "    </tr>\n",
       "    <tr>\n",
       "      <td>13</td>\n",
       "      <td>2003-03-11</td>\n",
       "      <td>day_of</td>\n",
       "      <td>1</td>\n",
       "      <td>0.218108</td>\n",
       "    </tr>\n",
       "    <tr>\n",
       "      <td>14</td>\n",
       "      <td>2003-03-12</td>\n",
       "      <td>day_of</td>\n",
       "      <td>1</td>\n",
       "      <td>0.387917</td>\n",
       "    </tr>\n",
       "    <tr>\n",
       "      <td>15</td>\n",
       "      <td>2003-03-13</td>\n",
       "      <td>day_of</td>\n",
       "      <td>1</td>\n",
       "      <td>0.049757</td>\n",
       "    </tr>\n",
       "    <tr>\n",
       "      <td>19</td>\n",
       "      <td>2003-09-15</td>\n",
       "      <td>day_of</td>\n",
       "      <td>1</td>\n",
       "      <td>3.292506</td>\n",
       "    </tr>\n",
       "    <tr>\n",
       "      <td>22</td>\n",
       "      <td>2003-09-18</td>\n",
       "      <td>day_of</td>\n",
       "      <td>1</td>\n",
       "      <td>1.203738</td>\n",
       "    </tr>\n",
       "    <tr>\n",
       "      <td>26</td>\n",
       "      <td>2003-10-30</td>\n",
       "      <td>day_of</td>\n",
       "      <td>1</td>\n",
       "      <td>0.021718</td>\n",
       "    </tr>\n",
       "  </tbody>\n",
       "</table>\n",
       "</div>"
      ],
      "text/plain": [
       "   Precip_Date    Days  Date_bin  Precip_avg(mm)\n",
       "1   2002-10-22  day_of         1        0.026007\n",
       "2   2002-10-23  day_of         1        0.017095\n",
       "6   2003-01-19  day_of         1        0.204496\n",
       "11  2003-03-09  day_of         1        0.096158\n",
       "13  2003-03-11  day_of         1        0.218108\n",
       "14  2003-03-12  day_of         1        0.387917\n",
       "15  2003-03-13  day_of         1        0.049757\n",
       "19  2003-09-15  day_of         1        3.292506\n",
       "22  2003-09-18  day_of         1        1.203738\n",
       "26  2003-10-30  day_of         1        0.021718"
      ]
     },
     "execution_count": 36,
     "metadata": {},
     "output_type": "execute_result"
    }
   ],
   "source": [
    "df_of = df3.loc[df3['Days'] == 'day_of']\n",
    "df_of.head(10)"
   ]
  },
  {
   "cell_type": "code",
   "execution_count": 37,
   "metadata": {},
   "outputs": [
    {
     "name": "stdout",
     "output_type": "stream",
     "text": [
      "112\n"
     ]
    }
   ],
   "source": [
    "print(len(df_of))"
   ]
  },
  {
   "cell_type": "code",
   "execution_count": 38,
   "metadata": {},
   "outputs": [],
   "source": [
    "df_of.to_csv(\"Precip_day_of.csv\", index = False)"
   ]
  },
  {
   "cell_type": "code",
   "execution_count": 39,
   "metadata": {},
   "outputs": [
    {
     "data": {
      "text/html": [
       "<div>\n",
       "<style scoped>\n",
       "    .dataframe tbody tr th:only-of-type {\n",
       "        vertical-align: middle;\n",
       "    }\n",
       "\n",
       "    .dataframe tbody tr th {\n",
       "        vertical-align: top;\n",
       "    }\n",
       "\n",
       "    .dataframe thead th {\n",
       "        text-align: right;\n",
       "    }\n",
       "</style>\n",
       "<table border=\"1\" class=\"dataframe\">\n",
       "  <thead>\n",
       "    <tr style=\"text-align: right;\">\n",
       "      <th></th>\n",
       "      <th>Precip_Date</th>\n",
       "      <th>Days</th>\n",
       "      <th>Date_bin</th>\n",
       "      <th>Precip_avg(mm)</th>\n",
       "    </tr>\n",
       "  </thead>\n",
       "  <tbody>\n",
       "    <tr>\n",
       "      <td>0</td>\n",
       "      <td>2002-10-21</td>\n",
       "      <td>day_before</td>\n",
       "      <td>0</td>\n",
       "      <td>0.030363</td>\n",
       "    </tr>\n",
       "    <tr>\n",
       "      <td>5</td>\n",
       "      <td>2003-01-18</td>\n",
       "      <td>day_before</td>\n",
       "      <td>0</td>\n",
       "      <td>0.270050</td>\n",
       "    </tr>\n",
       "    <tr>\n",
       "      <td>10</td>\n",
       "      <td>2003-03-08</td>\n",
       "      <td>day_before</td>\n",
       "      <td>0</td>\n",
       "      <td>0.146112</td>\n",
       "    </tr>\n",
       "    <tr>\n",
       "      <td>18</td>\n",
       "      <td>2003-09-14</td>\n",
       "      <td>day_before</td>\n",
       "      <td>0</td>\n",
       "      <td>4.945026</td>\n",
       "    </tr>\n",
       "    <tr>\n",
       "      <td>25</td>\n",
       "      <td>2003-10-29</td>\n",
       "      <td>day_before</td>\n",
       "      <td>0</td>\n",
       "      <td>0.158796</td>\n",
       "    </tr>\n",
       "    <tr>\n",
       "      <td>33</td>\n",
       "      <td>2004-10-04</td>\n",
       "      <td>day_before</td>\n",
       "      <td>0</td>\n",
       "      <td>1.369726</td>\n",
       "    </tr>\n",
       "    <tr>\n",
       "      <td>37</td>\n",
       "      <td>2005-01-10</td>\n",
       "      <td>day_before</td>\n",
       "      <td>0</td>\n",
       "      <td>0.127888</td>\n",
       "    </tr>\n",
       "    <tr>\n",
       "      <td>41</td>\n",
       "      <td>2005-01-16</td>\n",
       "      <td>day_before</td>\n",
       "      <td>0</td>\n",
       "      <td>0.592790</td>\n",
       "    </tr>\n",
       "    <tr>\n",
       "      <td>45</td>\n",
       "      <td>2005-11-03</td>\n",
       "      <td>day_before</td>\n",
       "      <td>0</td>\n",
       "      <td>1.552670</td>\n",
       "    </tr>\n",
       "    <tr>\n",
       "      <td>50</td>\n",
       "      <td>2006-07-17</td>\n",
       "      <td>day_before</td>\n",
       "      <td>0</td>\n",
       "      <td>1.080271</td>\n",
       "    </tr>\n",
       "  </tbody>\n",
       "</table>\n",
       "</div>"
      ],
      "text/plain": [
       "   Precip_Date        Days  Date_bin  Precip_avg(mm)\n",
       "0   2002-10-21  day_before         0        0.030363\n",
       "5   2003-01-18  day_before         0        0.270050\n",
       "10  2003-03-08  day_before         0        0.146112\n",
       "18  2003-09-14  day_before         0        4.945026\n",
       "25  2003-10-29  day_before         0        0.158796\n",
       "33  2004-10-04  day_before         0        1.369726\n",
       "37  2005-01-10  day_before         0        0.127888\n",
       "41  2005-01-16  day_before         0        0.592790\n",
       "45  2005-11-03  day_before         0        1.552670\n",
       "50  2006-07-17  day_before         0        1.080271"
      ]
     },
     "execution_count": 39,
     "metadata": {},
     "output_type": "execute_result"
    }
   ],
   "source": [
    "df_before = df3.loc[df3['Days'] == 'day_before']\n",
    "df_before.head(10)"
   ]
  },
  {
   "cell_type": "code",
   "execution_count": 40,
   "metadata": {},
   "outputs": [
    {
     "name": "stdout",
     "output_type": "stream",
     "text": [
      "72\n"
     ]
    }
   ],
   "source": [
    "print(len(df_before))"
   ]
  },
  {
   "cell_type": "code",
   "execution_count": 41,
   "metadata": {},
   "outputs": [],
   "source": [
    "df_before.to_csv(\"Precip_day_before.csv\", index = False)"
   ]
  },
  {
   "cell_type": "code",
   "execution_count": 42,
   "metadata": {},
   "outputs": [
    {
     "data": {
      "text/html": [
       "<div>\n",
       "<style scoped>\n",
       "    .dataframe tbody tr th:only-of-type {\n",
       "        vertical-align: middle;\n",
       "    }\n",
       "\n",
       "    .dataframe tbody tr th {\n",
       "        vertical-align: top;\n",
       "    }\n",
       "\n",
       "    .dataframe thead th {\n",
       "        text-align: right;\n",
       "    }\n",
       "</style>\n",
       "<table border=\"1\" class=\"dataframe\">\n",
       "  <thead>\n",
       "    <tr style=\"text-align: right;\">\n",
       "      <th></th>\n",
       "      <th>Precip_Date</th>\n",
       "      <th>Days</th>\n",
       "      <th>Date_bin</th>\n",
       "      <th>Precip_avg(mm)</th>\n",
       "    </tr>\n",
       "  </thead>\n",
       "  <tbody>\n",
       "    <tr>\n",
       "      <td>3</td>\n",
       "      <td>2002-10-24</td>\n",
       "      <td>1day_after</td>\n",
       "      <td>0</td>\n",
       "      <td>0.005773</td>\n",
       "    </tr>\n",
       "    <tr>\n",
       "      <td>7</td>\n",
       "      <td>2003-01-20</td>\n",
       "      <td>1day_after</td>\n",
       "      <td>0</td>\n",
       "      <td>0.000301</td>\n",
       "    </tr>\n",
       "    <tr>\n",
       "      <td>16</td>\n",
       "      <td>2003-03-14</td>\n",
       "      <td>1day_after</td>\n",
       "      <td>0</td>\n",
       "      <td>1.173418</td>\n",
       "    </tr>\n",
       "    <tr>\n",
       "      <td>20</td>\n",
       "      <td>2003-09-16</td>\n",
       "      <td>1day_after</td>\n",
       "      <td>0</td>\n",
       "      <td>0.152571</td>\n",
       "    </tr>\n",
       "    <tr>\n",
       "      <td>23</td>\n",
       "      <td>2003-09-19</td>\n",
       "      <td>1day_after</td>\n",
       "      <td>0</td>\n",
       "      <td>0.573968</td>\n",
       "    </tr>\n",
       "    <tr>\n",
       "      <td>27</td>\n",
       "      <td>2003-10-31</td>\n",
       "      <td>1day_after</td>\n",
       "      <td>0</td>\n",
       "      <td>0.006590</td>\n",
       "    </tr>\n",
       "    <tr>\n",
       "      <td>31</td>\n",
       "      <td>2003-11-04</td>\n",
       "      <td>1day_after</td>\n",
       "      <td>0</td>\n",
       "      <td>10.213250</td>\n",
       "    </tr>\n",
       "    <tr>\n",
       "      <td>35</td>\n",
       "      <td>2004-10-06</td>\n",
       "      <td>1day_after</td>\n",
       "      <td>0</td>\n",
       "      <td>0.017181</td>\n",
       "    </tr>\n",
       "    <tr>\n",
       "      <td>39</td>\n",
       "      <td>2005-01-12</td>\n",
       "      <td>1day_after</td>\n",
       "      <td>0</td>\n",
       "      <td>0.304588</td>\n",
       "    </tr>\n",
       "    <tr>\n",
       "      <td>43</td>\n",
       "      <td>2005-01-18</td>\n",
       "      <td>1day_after</td>\n",
       "      <td>0</td>\n",
       "      <td>0.849886</td>\n",
       "    </tr>\n",
       "  </tbody>\n",
       "</table>\n",
       "</div>"
      ],
      "text/plain": [
       "   Precip_Date        Days  Date_bin  Precip_avg(mm)\n",
       "3   2002-10-24  1day_after         0        0.005773\n",
       "7   2003-01-20  1day_after         0        0.000301\n",
       "16  2003-03-14  1day_after         0        1.173418\n",
       "20  2003-09-16  1day_after         0        0.152571\n",
       "23  2003-09-19  1day_after         0        0.573968\n",
       "27  2003-10-31  1day_after         0        0.006590\n",
       "31  2003-11-04  1day_after         0       10.213250\n",
       "35  2004-10-06  1day_after         0        0.017181\n",
       "39  2005-01-12  1day_after         0        0.304588\n",
       "43  2005-01-18  1day_after         0        0.849886"
      ]
     },
     "execution_count": 42,
     "metadata": {},
     "output_type": "execute_result"
    }
   ],
   "source": [
    "df_1day_after = df3.loc[df3['Days'] == '1day_after']\n",
    "df_1day_after.head(10)"
   ]
  },
  {
   "cell_type": "code",
   "execution_count": 43,
   "metadata": {},
   "outputs": [
    {
     "name": "stdout",
     "output_type": "stream",
     "text": [
      "80\n"
     ]
    }
   ],
   "source": [
    "print(len(df_1day_after))"
   ]
  },
  {
   "cell_type": "code",
   "execution_count": 47,
   "metadata": {},
   "outputs": [],
   "source": [
    "df_1day_after.to_csv(\"Precip_1day_after.csv\", index = False)"
   ]
  },
  {
   "cell_type": "code",
   "execution_count": 44,
   "metadata": {},
   "outputs": [
    {
     "data": {
      "text/html": [
       "<div>\n",
       "<style scoped>\n",
       "    .dataframe tbody tr th:only-of-type {\n",
       "        vertical-align: middle;\n",
       "    }\n",
       "\n",
       "    .dataframe tbody tr th {\n",
       "        vertical-align: top;\n",
       "    }\n",
       "\n",
       "    .dataframe thead th {\n",
       "        text-align: right;\n",
       "    }\n",
       "</style>\n",
       "<table border=\"1\" class=\"dataframe\">\n",
       "  <thead>\n",
       "    <tr style=\"text-align: right;\">\n",
       "      <th></th>\n",
       "      <th>Precip_Date</th>\n",
       "      <th>Days</th>\n",
       "      <th>Date_bin</th>\n",
       "      <th>Precip_avg(mm)</th>\n",
       "    </tr>\n",
       "  </thead>\n",
       "  <tbody>\n",
       "    <tr>\n",
       "      <td>4</td>\n",
       "      <td>2002-10-25</td>\n",
       "      <td>2days_after</td>\n",
       "      <td>0</td>\n",
       "      <td>0.026458</td>\n",
       "    </tr>\n",
       "    <tr>\n",
       "      <td>8</td>\n",
       "      <td>2003-01-21</td>\n",
       "      <td>2days_after</td>\n",
       "      <td>0</td>\n",
       "      <td>0.451951</td>\n",
       "    </tr>\n",
       "    <tr>\n",
       "      <td>17</td>\n",
       "      <td>2003-03-15</td>\n",
       "      <td>2days_after</td>\n",
       "      <td>0</td>\n",
       "      <td>3.198971</td>\n",
       "    </tr>\n",
       "    <tr>\n",
       "      <td>24</td>\n",
       "      <td>2003-09-20</td>\n",
       "      <td>2days_after</td>\n",
       "      <td>0</td>\n",
       "      <td>23.639091</td>\n",
       "    </tr>\n",
       "    <tr>\n",
       "      <td>32</td>\n",
       "      <td>2003-11-05</td>\n",
       "      <td>2days_after</td>\n",
       "      <td>0</td>\n",
       "      <td>3.047883</td>\n",
       "    </tr>\n",
       "    <tr>\n",
       "      <td>36</td>\n",
       "      <td>2004-10-07</td>\n",
       "      <td>2days_after</td>\n",
       "      <td>0</td>\n",
       "      <td>0.022396</td>\n",
       "    </tr>\n",
       "    <tr>\n",
       "      <td>40</td>\n",
       "      <td>2005-01-13</td>\n",
       "      <td>2days_after</td>\n",
       "      <td>0</td>\n",
       "      <td>1.731034</td>\n",
       "    </tr>\n",
       "    <tr>\n",
       "      <td>44</td>\n",
       "      <td>2005-01-19</td>\n",
       "      <td>2days_after</td>\n",
       "      <td>0</td>\n",
       "      <td>1.918008</td>\n",
       "    </tr>\n",
       "    <tr>\n",
       "      <td>49</td>\n",
       "      <td>2005-11-07</td>\n",
       "      <td>2days_after</td>\n",
       "      <td>0</td>\n",
       "      <td>0.547974</td>\n",
       "    </tr>\n",
       "    <tr>\n",
       "      <td>53</td>\n",
       "      <td>2006-07-20</td>\n",
       "      <td>2days_after</td>\n",
       "      <td>0</td>\n",
       "      <td>0.308163</td>\n",
       "    </tr>\n",
       "  </tbody>\n",
       "</table>\n",
       "</div>"
      ],
      "text/plain": [
       "   Precip_Date         Days  Date_bin  Precip_avg(mm)\n",
       "4   2002-10-25  2days_after         0        0.026458\n",
       "8   2003-01-21  2days_after         0        0.451951\n",
       "17  2003-03-15  2days_after         0        3.198971\n",
       "24  2003-09-20  2days_after         0       23.639091\n",
       "32  2003-11-05  2days_after         0        3.047883\n",
       "36  2004-10-07  2days_after         0        0.022396\n",
       "40  2005-01-13  2days_after         0        1.731034\n",
       "44  2005-01-19  2days_after         0        1.918008\n",
       "49  2005-11-07  2days_after         0        0.547974\n",
       "53  2006-07-20  2days_after         0        0.308163"
      ]
     },
     "execution_count": 44,
     "metadata": {},
     "output_type": "execute_result"
    }
   ],
   "source": [
    "df_2days_after = df3.loc[df3['Days'] == '2days_after']\n",
    "df_2days_after.head(10)"
   ]
  },
  {
   "cell_type": "code",
   "execution_count": 45,
   "metadata": {},
   "outputs": [
    {
     "name": "stdout",
     "output_type": "stream",
     "text": [
      "74\n"
     ]
    }
   ],
   "source": [
    "print(len(df_2days_after))"
   ]
  },
  {
   "cell_type": "code",
   "execution_count": 46,
   "metadata": {},
   "outputs": [],
   "source": [
    "df_2days_after.to_csv(\"Precip_2days_after.csv\", index = False)"
   ]
  }
 ],
 "metadata": {
  "kernelspec": {
   "display_name": "Python 3",
   "language": "python",
   "name": "python3"
  },
  "language_info": {
   "codemirror_mode": {
    "name": "ipython",
    "version": 3
   },
   "file_extension": ".py",
   "mimetype": "text/x-python",
   "name": "python",
   "nbconvert_exporter": "python",
   "pygments_lexer": "ipython3",
   "version": "3.7.4"
  }
 },
 "nbformat": 4,
 "nbformat_minor": 2
}
