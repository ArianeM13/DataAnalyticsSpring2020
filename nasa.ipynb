{
 "cells": [
  {
   "cell_type": "code",
   "execution_count": 3,
   "metadata": {},
   "outputs": [],
   "source": [
    "import numpy as np\n",
    "import requests\n",
    "import shapefile\n",
    "import geopandas as gpd"
   ]
  },
  {
   "cell_type": "code",
   "execution_count": 4,
   "metadata": {},
   "outputs": [],
   "source": [
    "from io import BytesIO\n",
    "from matplotlib.pyplot import imshow\n",
    "from PIL import Image\n",
    "from numpy.core.defchararray import strip"
   ]
  },
  {
   "cell_type": "code",
   "execution_count": 5,
   "metadata": {},
   "outputs": [],
   "source": [
    "URL = \"https://gibs.earthdata.nasa.gov/wms/epsg4326/best/wms.cgi?SERVICE=WMS&REQUEST=GetMap&layers\" \\\n",
    "      \"=MODIS_Aqua_CorrectedReflectance_TrueColor&version=1.3.0&crs=EPSG:4326&transparent=false&width={}&height={\" \\\n",
    "      \"}&bbox={}&format=image/tiff&time={} \"\n",
    "KM_PER_DEG_AT_EQ = 111."
   ]
  },
  {
   "cell_type": "code",
   "execution_count": 6,
   "metadata": {},
   "outputs": [],
   "source": [
    "def calculate_width_height(extent, resolution):\n",
    "    \"\"\"\n",
    "    extent: [lower_latitude, left_longitude, higher_latitude, right_longitude], EG: [51.46162974683544,\n",
    "    -22.94768591772153,53.03698575949367,-20.952234968354432] resolution: represents the pixel resolution,\n",
    "    i.e. km/pixel. Should be a value from this list: [0.03, 0.06, 0.125, 0.25, 0.5, 1, 5, 10]\n",
    "    \"\"\"\n",
    "    lats = extent[::2]\n",
    "    lons = extent[1::2]\n",
    "    km_per_deg_at_lat = KM_PER_DEG_AT_EQ * np.cos(np.pi * np.mean(lats) / 180.)\n",
    "    width = int((lons[1] - lons[0]) * km_per_deg_at_lat / resolution)\n",
    "    height = int((lats[1] - lats[0]) * KM_PER_DEG_AT_EQ / resolution)\n",
    "    print(width, height)\n",
    "    return width, height"
   ]
  },
  {
   "cell_type": "code",
   "execution_count": 7,
   "metadata": {},
   "outputs": [],
   "source": [
    "def modis_url(time, extent, resolution):\n",
    "    \"\"\"\n",
    "    time: utc time in iso format EG: 2020-02-19T00:00:00Z extent: [lower_latitude, left_longitude, higher_latitude,\n",
    "    right_longitude], EG: [51.46162974683544,-22.94768591772153,53.03698575949367,-20.952234968354432] resolution:\n",
    "    represents the pixel resolution, i.e. km/pixel. Should be a value from this list: [0.03, 0.06, 0.125, 0.25, 0.5,\n",
    "    1, 5, 10]\n",
    "    \"\"\"\n",
    "    width, height = calculate_width_height(extent, resolution)\n",
    "    extent = ','.join(map(lambda x: str(x), extent))\n",
    "    return width, height, URL.format(width, height, extent, time)"
   ]
  },
  {
   "cell_type": "code",
   "execution_count": 8,
   "metadata": {},
   "outputs": [
    {
     "name": "stdout",
     "output_type": "stream",
     "text": [
      "/Users/arianemaharaj/Documents/NASA/Data/high-latitude-dust_2010-12-01_234\n"
     ]
    },
    {
     "data": {
      "text/plain": [
       "207"
      ]
     },
     "execution_count": 8,
     "metadata": {},
     "output_type": "execute_result"
    }
   ],
   "source": [
    "import os\n",
    "rootdir = '/Users/arianemaharaj/Documents/NASA/Data'\n",
    "Dirname = [x[0] for x in os.walk(rootdir)]\n",
    "Dirname.pop(0)\n",
    "print (Dirname[0])\n",
    "len(Dirname)\n",
    "#207 useful directory names"
   ]
  },
  {
   "cell_type": "code",
   "execution_count": 9,
   "metadata": {},
   "outputs": [],
   "source": [
    "import re\n",
    "temp = list()\n",
    "for fname in Dirname:\n",
    "    str0 = fname.split('_')\n",
    "    str1 = str0[1]\n",
    "    str2 = fname[fname.rindex('_'):]\n",
    "    date = str1+str2\n",
    "    #res = re.findall(\"high-latitude-dust_(\\d+)\", fname)\n",
    "    #if not res: continue\n",
    "    #print (res[0])\n",
    "    temp.append (date)"
   ]
  },
  {
   "cell_type": "code",
   "execution_count": 10,
   "metadata": {},
   "outputs": [
    {
     "data": {
      "text/plain": [
       "207"
      ]
     },
     "execution_count": 10,
     "metadata": {},
     "output_type": "execute_result"
    }
   ],
   "source": [
    "len (temp)"
   ]
  },
  {
   "cell_type": "code",
   "execution_count": 11,
   "metadata": {},
   "outputs": [
    {
     "name": "stdout",
     "output_type": "stream",
     "text": [
      "['2002-10-23_274', '2003-01-19_53', '2003-01-19_77', '2003-03-09_270', '2003-03-11_268', '2003-03-12_263', '2003-03-12_265', '2003-03-12_267', '2003-03-12_269']\n",
      "['2019-11-09_289', 'Pics_Pics']\n"
     ]
    },
    {
     "data": {
      "text/plain": [
       "207"
      ]
     },
     "execution_count": 11,
     "metadata": {},
     "output_type": "execute_result"
    }
   ],
   "source": [
    "temp.sort()\n",
    "dates = temp\n",
    "print (dates[1:10])\n",
    "print (dates[-2:])\n",
    "len(dates)"
   ]
  },
  {
   "cell_type": "code",
   "execution_count": 12,
   "metadata": {},
   "outputs": [
    {
     "name": "stdout",
     "output_type": "stream",
     "text": [
      "['2002-10-23_274', '2003-01-19_53', '2003-01-19_77', '2003-03-09_270']\n",
      "['2019-03-26_111', '2019-11-09_289']\n"
     ]
    },
    {
     "data": {
      "text/plain": [
       "206"
      ]
     },
     "execution_count": 12,
     "metadata": {},
     "output_type": "execute_result"
    }
   ],
   "source": [
    "dates.pop(-1)\n",
    "print (dates[1:5])\n",
    "print (dates[-2:])\n",
    "len(dates)"
   ]
  },
  {
   "cell_type": "code",
   "execution_count": 13,
   "metadata": {},
   "outputs": [],
   "source": [
    "bbox = list()\n",
    "for i in dates:\n",
    "    sh = shapefile.Reader(\"../../Documents/NASA/Data/high-latitude-dust_\" + i + \"/high-latitude-dust_\" + i)\n",
    "    shapes = sh.shapes()\n",
    "    box = shapes[0].bbox\n",
    "    bbox.append(box)"
   ]
  },
  {
   "cell_type": "code",
   "execution_count": 14,
   "metadata": {},
   "outputs": [
    {
     "data": {
      "text/plain": [
       "[[-19.05626, 62.637483, -17.143616, 63.602063],\n",
       " [-67.575581, -45.764561, -63.257844, -44.841727],\n",
       " [-67.54834, -45.711837, -63.500977, -44.850475],\n",
       " [-146.614203, 58.592352, -144.270666, 60.543486],\n",
       " [-146.467104, 59.275672, -144.136757, 60.569836],\n",
       " [-141.317987, 58.227593, -138.24017, 59.471221],\n",
       " [-141.622253, 58.297892, -139.206345, 59.383326],\n",
       " [-142.852868, 59.326216, -140.118007, 59.857944],\n",
       " [-146.700115, 59.392126, -144.765487, 60.556654]]"
      ]
     },
     "execution_count": 14,
     "metadata": {},
     "output_type": "execute_result"
    }
   ],
   "source": [
    "bbox[1:10]"
   ]
  },
  {
   "cell_type": "code",
   "execution_count": 238,
   "metadata": {},
   "outputs": [],
   "source": [
    "# sh = shapefile.Reader(\"../../Documents/NASA/high-latitude-dust_2012-12-04_221/high-latitude-dust_2012-12-04_221\")\n",
    "# shapes = sh.shapes()\n",
    "# bbox = shapes[0].bbox\n",
    "# bbox"
   ]
  },
  {
   "cell_type": "code",
   "execution_count": 239,
   "metadata": {},
   "outputs": [],
   "source": [
    "# bboxt= [bbox[1],bbox[0],bbox[3],bbox[2]]\n",
    "# bboxt"
   ]
  },
  {
   "cell_type": "code",
   "execution_count": 15,
   "metadata": {},
   "outputs": [
    {
     "name": "stdout",
     "output_type": "stream",
     "text": [
      "[[62.637483, -19.05626, 63.602063, -17.143616], [-45.764561, -67.575581, -44.841727, -63.257844], [-45.711837, -67.54834, -44.850475, -63.500977], [58.592352, -146.614203, 60.543486, -144.270666], [59.275672, -146.467104, 60.569836, -144.136757], [58.227593, -141.317987, 59.471221, -138.24017], [58.297892, -141.622253, 59.383326, -139.206345], [59.326216, -142.852868, 59.857944, -140.118007], [59.392126, -146.700115, 60.556654, -144.765487]]\n",
      "[57.059541, -144.166992, 59.976433, -138.023437]\n"
     ]
    }
   ],
   "source": [
    "bbox_rotated = []\n",
    "for i in range(len(bbox)):\n",
    "    bbox_rotated.append([bbox[i][1],bbox[i][0],bbox[i][3],bbox[i][2]])\n",
    "print (bbox_rotated[1:10])\n",
    "print(bbox_rotated[-1])"
   ]
  },
  {
   "cell_type": "code",
   "execution_count": 16,
   "metadata": {},
   "outputs": [],
   "source": [
    "# width, height, url = modis_url('2012-12-04T00:00:00Z',\n",
    "#                                bboxt, 0.25)"
   ]
  },
  {
   "cell_type": "code",
   "execution_count": 17,
   "metadata": {},
   "outputs": [],
   "source": [
    "dateonly = list()\n",
    "for fname in Dirname:\n",
    "    str0 = fname.split('_')\n",
    "    dateonly.append (str0[1])"
   ]
  },
  {
   "cell_type": "code",
   "execution_count": 18,
   "metadata": {},
   "outputs": [
    {
     "name": "stdout",
     "output_type": "stream",
     "text": [
      "207\n",
      "['2013-11-17', '2018-02-03', '2017-11-07', '2019-02-25', '2010-01-24', '2003-03-12', '2019-02-25', '2003-10-30', '2009-08-05']\n"
     ]
    }
   ],
   "source": [
    "print (len(dateonly))\n",
    "print (dateonly[1:10])"
   ]
  },
  {
   "cell_type": "code",
   "execution_count": 19,
   "metadata": {},
   "outputs": [
    {
     "name": "stdout",
     "output_type": "stream",
     "text": [
      "['2002-10-23', '2003-01-19', '2003-01-19', '2003-03-09', '2003-03-11', '2003-03-12', '2003-03-12', '2003-03-12', '2003-03-12']\n",
      "['2019-02-25', '2019-03-26', '2019-11-09', 'Pics']\n"
     ]
    }
   ],
   "source": [
    "dateonly.sort()\n",
    "print (dateonly[1:10])\n",
    "print (dateonly[-4:])"
   ]
  },
  {
   "cell_type": "code",
   "execution_count": 20,
   "metadata": {},
   "outputs": [
    {
     "name": "stdout",
     "output_type": "stream",
     "text": [
      "206\n",
      "['2019-02-25', '2019-02-25', '2019-03-26', '2019-11-09']\n"
     ]
    }
   ],
   "source": [
    "dateonly.pop(-1)\n",
    "print (len(dateonly))\n",
    "print (dateonly[-4:])"
   ]
  },
  {
   "cell_type": "code",
   "execution_count": 246,
   "metadata": {},
   "outputs": [],
   "source": [
    "#sh = shapefile.Reader(\"../../Documents/NASA/high-latitude-dust_7/high-latitude-dust_7\")\n",
    "# response = requests.get(strip(url))\n",
    "# img = BytesIO(response.content)"
   ]
  },
  {
   "cell_type": "code",
   "execution_count": 247,
   "metadata": {},
   "outputs": [],
   "source": [
    "# im = Image.open(img)\n",
    "# im.show()\n",
    "#Image.open(img)"
   ]
  },
  {
   "cell_type": "code",
   "execution_count": 255,
   "metadata": {},
   "outputs": [
    {
     "name": "stdout",
     "output_type": "stream",
     "text": [
      "153 211\n",
      "Saved file: high-latitude-dust_2002-10-22_276.png\n",
      "383 428\n",
      "Saved file: high-latitude-dust_2002-10-23_274.png\n",
      "1348 409\n",
      "Saved file: high-latitude-dust_2003-01-19_53.png\n",
      "1264 382\n",
      "Saved file: high-latitude-dust_2003-01-19_77.png\n",
      "527 866\n",
      "Saved file: high-latitude-dust_2003-03-09_270.png\n",
      "518 574\n",
      "Saved file: high-latitude-dust_2003-03-11_268.png\n",
      "706 552\n",
      "Saved file: high-latitude-dust_2003-03-12_263.png\n",
      "555 481\n",
      "Saved file: high-latitude-dust_2003-03-12_265.png\n",
      "614 236\n",
      "Saved file: high-latitude-dust_2003-03-12_267.png\n",
      "429 517\n",
      "Saved file: high-latitude-dust_2003-03-12_269.png\n",
      "178 179\n",
      "Saved file: high-latitude-dust_2003-03-12_271.png\n",
      "404 406\n",
      "Saved file: high-latitude-dust_2003-03-13_146.png\n",
      "485 419\n",
      "Saved file: high-latitude-dust_2003-03-13_264.png\n",
      "473 417\n",
      "Saved file: high-latitude-dust_2003-03-13_266.png\n",
      "341 376\n",
      "Saved file: high-latitude-dust_2003-03-13_32.png\n",
      "519 743\n",
      "Saved file: high-latitude-dust_2003-09-15_262.png\n",
      "659 883\n",
      "Saved file: high-latitude-dust_2003-09-18_260.png\n",
      "486 614\n",
      "Saved file: high-latitude-dust_2003-10-30_113.png\n",
      "545 799\n",
      "Saved file: high-latitude-dust_2003-11-02_145.png\n",
      "413 636\n",
      "Saved file: high-latitude-dust_2003-11-02_283.png\n",
      "635 817\n",
      "Saved file: high-latitude-dust_2003-11-02_284.png\n",
      "601 866\n",
      "Saved file: high-latitude-dust_2003-11-02_285.png\n",
      "431 673\n",
      "Saved file: high-latitude-dust_2003-11-02_286.png\n",
      "594 905\n",
      "Saved file: high-latitude-dust_2003-11-02_287.png\n",
      "174 367\n",
      "Saved file: high-latitude-dust_2003-11-02_31.png\n",
      "717 907\n",
      "Saved file: high-latitude-dust_2003-11-03_282.png\n",
      "621 1936\n",
      "Saved file: high-latitude-dust_2004-10-05_144.png\n",
      "999 1943\n",
      "Saved file: high-latitude-dust_2004-10-05_278.png\n",
      "988 1888\n",
      "Saved file: high-latitude-dust_2004-10-05_279.png\n",
      "337 803\n",
      "Saved file: high-latitude-dust_2004-10-05_280.png\n",
      "595 886\n",
      "Saved file: high-latitude-dust_2004-10-05_30.png\n",
      "461 1190\n",
      "Saved file: high-latitude-dust_2005-01-11_258.png\n",
      "224 616\n",
      "Saved file: high-latitude-dust_2005-01-11_259.png\n",
      "523 386\n",
      "Saved file: high-latitude-dust_2005-01-11_261.png\n",
      "735 842\n",
      "Saved file: high-latitude-dust_2005-01-17_255.png\n",
      "358 384\n",
      "Saved file: high-latitude-dust_2005-01-17_257.png\n",
      "530 757\n",
      "Errorhigh-latitude-dust_2005-10-31_253\n",
      "134 139\n",
      "Saved file: high-latitude-dust_2005-11-04_256.png\n",
      "381 844\n",
      "Saved file: high-latitude-dust_2005-11-05_254.png\n",
      "347 780\n",
      "Saved file: high-latitude-dust_2005-11-05_33.png\n",
      "302 201\n",
      "Saved file: high-latitude-dust_2006-07-18_78.png\n",
      "283 123\n",
      "Saved file: high-latitude-dust_2006-07-18_79.png\n",
      "558 412\n",
      "Saved file: high-latitude-dust_2006-07-18_80.png\n",
      "1013 1121\n",
      "Saved file: high-latitude-dust_2006-10-28_252.png\n",
      "982 1196\n",
      "Saved file: high-latitude-dust_2006-11-01_250.png\n",
      "610 825\n",
      "Saved file: high-latitude-dust_2006-11-02_248.png\n",
      "661 874\n",
      "Saved file: high-latitude-dust_2006-11-04_249.png\n",
      "315 96\n",
      "Saved file: high-latitude-dust_2006-11-05_246.png\n",
      "111 144\n",
      "Saved file: high-latitude-dust_2006-11-05_247.png\n",
      "877 809\n",
      "Saved file: high-latitude-dust_2006-11-05_251.png\n",
      "953 1270\n",
      "Saved file: high-latitude-dust_2006-11-06_242.png\n",
      "949 1160\n",
      "Saved file: high-latitude-dust_2006-11-06_243.png\n",
      "542 1412\n",
      "Saved file: high-latitude-dust_2006-11-06_244.png\n",
      "478 930\n",
      "Saved file: high-latitude-dust_2006-11-13_245.png\n",
      "482 411\n",
      "Saved file: high-latitude-dust_2006-11-17_241.png\n",
      "398 924\n",
      "Saved file: high-latitude-dust_2006-11-19_239.png\n",
      "211 199\n",
      "Saved file: high-latitude-dust_2006-11-22_237.png\n",
      "625 987\n",
      "Saved file: high-latitude-dust_2006-11-24_238.png\n",
      "824 731\n",
      "Saved file: high-latitude-dust_2007-04-13_81.png\n",
      "449 626\n",
      "Saved file: high-latitude-dust_2007-04-13_82.png\n",
      "945 464\n",
      "Saved file: high-latitude-dust_2007-07-06_83.png\n",
      "769 328\n",
      "Saved file: high-latitude-dust_2007-08-27_84.png\n",
      "1299 1662\n",
      "Saved file: high-latitude-dust_2007-10-24_85.png\n",
      "1945 714\n",
      "Saved file: high-latitude-dust_2007-12-09_86.png\n",
      "1281 874\n",
      "Saved file: high-latitude-dust_2008-12-22_87.png\n",
      "544 639\n",
      "Saved file: high-latitude-dust_2009-01-10_88.png\n",
      "1178 593\n",
      "Saved file: high-latitude-dust_2009-01-16_89.png\n",
      "609 893\n",
      "Saved file: high-latitude-dust_2009-01-22_90.png\n",
      "549 854\n",
      "Saved file: high-latitude-dust_2009-01-23_75.png\n",
      "1332 1451\n",
      "Saved file: high-latitude-dust_2009-01-23_91.png\n",
      "815 784\n",
      "Saved file: high-latitude-dust_2009-01-30_92.png\n",
      "1229 811\n",
      "Saved file: high-latitude-dust_2009-02-17_93.png\n",
      "575 520\n",
      "Saved file: high-latitude-dust_2009-02-28_94.png\n",
      "4130 2981\n",
      "Saved file: high-latitude-dust_2009-03-28_95.png\n",
      "2020 597\n",
      "Saved file: high-latitude-dust_2009-03-28_96.png\n",
      "2105 1233\n",
      "Saved file: high-latitude-dust_2009-04-05_97.png\n",
      "740 487\n",
      "Saved file: high-latitude-dust_2009-06-21_54.png\n",
      "564 431\n",
      "Saved file: high-latitude-dust_2009-06-21_98.png\n",
      "807 565\n",
      "Saved file: high-latitude-dust_2009-06-22_55.png\n",
      "494 329\n",
      "Saved file: high-latitude-dust_2009-06-24_99.png\n",
      "249 171\n",
      "Saved file: high-latitude-dust_2009-07-05_100.png\n",
      "978 308\n",
      "Saved file: high-latitude-dust_2009-08-05_101.png\n",
      "1354 401\n",
      "Saved file: high-latitude-dust_2009-08-05_102.png\n",
      "1345 417\n",
      "Saved file: high-latitude-dust_2009-08-05_56.png\n",
      "834 286\n",
      "Saved file: high-latitude-dust_2009-08-05_57.png\n",
      "1092 948\n",
      "Saved file: high-latitude-dust_2009-09-11_103.png\n",
      "665 798\n",
      "Saved file: high-latitude-dust_2009-09-20_104.png\n",
      "666 831\n",
      "Saved file: high-latitude-dust_2009-09-23_105.png\n",
      "343 1053\n",
      "Saved file: high-latitude-dust_2009-09-30_106.png\n",
      "1333 651\n",
      "Saved file: high-latitude-dust_2009-10-13_107.png\n",
      "1519 811\n",
      "Saved file: high-latitude-dust_2009-10-25_108.png\n",
      "872 981\n",
      "Saved file: high-latitude-dust_2009-10-29_240.png\n",
      "547 767\n",
      "Saved file: high-latitude-dust_2009-10-30_236.png\n",
      "1483 1194\n",
      "Saved file: high-latitude-dust_2009-11-04_109.png\n",
      "1672 1385\n",
      "Saved file: high-latitude-dust_2009-11-04_58.png\n",
      "1672 1385\n",
      "Saved file: high-latitude-dust_2009-11-04_59.png\n",
      "1085 909\n",
      "Saved file: high-latitude-dust_2009-11-05_110.png\n",
      "1018 1436\n",
      "Saved file: high-latitude-dust_2009-12-25_60.png\n",
      "707 735\n",
      "Saved file: high-latitude-dust_2010-01-03_61.png\n",
      "1849 1041\n",
      "Saved file: high-latitude-dust_2010-01-08_62.png\n",
      "1184 1367\n",
      "Saved file: high-latitude-dust_2010-01-08_63.png\n",
      "621 593\n",
      "Saved file: high-latitude-dust_2010-01-12_64.png\n",
      "1552 1100\n",
      "Saved file: high-latitude-dust_2010-01-12_65.png\n",
      "3900 2109\n",
      "Saved file: high-latitude-dust_2010-01-24_127.png\n",
      "2950 2380\n",
      "Saved file: high-latitude-dust_2010-01-24_272.png\n",
      "2581 2013\n",
      "Saved file: high-latitude-dust_2010-01-24_49.png\n",
      "2581 2013\n",
      "Saved file: high-latitude-dust_2010-01-24_50.png\n",
      "3984 2064\n",
      "Saved file: high-latitude-dust_2010-01-24_51.png\n",
      "496 917\n",
      "Saved file: high-latitude-dust_2010-01-25_52.png\n",
      "1308 1377\n",
      "Saved file: high-latitude-dust_2010-02-09_66.png\n",
      "1891 2232\n",
      "Saved file: high-latitude-dust_2010-02-09_67.png\n",
      "1709 846\n",
      "Saved file: high-latitude-dust_2010-03-23_68.png\n",
      "1629 702\n",
      "Saved file: high-latitude-dust_2010-04-19_69.png\n",
      "683 595\n",
      "Saved file: high-latitude-dust_2010-04-19_70.png\n",
      "1234 758\n",
      "Saved file: high-latitude-dust_2010-08-18_71.png\n",
      "426 212\n",
      "Saved file: high-latitude-dust_2010-08-18_72.png\n",
      "740 1316\n",
      "Saved file: high-latitude-dust_2010-12-01_234.png\n",
      "463 1272\n",
      "Saved file: high-latitude-dust_2010-12-23_232.png\n",
      "297 674\n",
      "Saved file: high-latitude-dust_2010-12-23_37.png\n",
      "1303 780\n",
      "Saved file: high-latitude-dust_2011-01-12_231.png\n",
      "808 719\n",
      "Saved file: high-latitude-dust_2011-01-12_233.png\n",
      "913 591\n",
      "Saved file: high-latitude-dust_2011-01-12_235.png\n",
      "263 811\n",
      "Saved file: high-latitude-dust_2011-11-02_147.png\n",
      "541 1631\n",
      "Saved file: high-latitude-dust_2011-11-02_229.png\n",
      "242 673\n",
      "Saved file: high-latitude-dust_2011-11-02_34.png\n",
      "860 1182\n",
      "Saved file: high-latitude-dust_2012-10-23_227.png\n",
      "723 913\n",
      "Saved file: high-latitude-dust_2012-10-24_228.png\n",
      "822 513\n",
      "Saved file: high-latitude-dust_2012-10-25_230.png\n",
      "981 1028\n",
      "Saved file: high-latitude-dust_2012-10-27_226.png\n",
      "731 1077\n",
      "Saved file: high-latitude-dust_2012-11-07_223.png\n",
      "731 1077\n",
      "Saved file: high-latitude-dust_2012-11-07_224.png\n",
      "562 936\n",
      "Saved file: high-latitude-dust_2012-12-04_148.png\n",
      "830 1084\n",
      "Saved file: high-latitude-dust_2012-12-04_221.png\n",
      "263 601\n",
      "Saved file: high-latitude-dust_2012-12-04_35.png\n",
      "415 944\n",
      "Saved file: high-latitude-dust_2013-11-08_222.png\n",
      "292 669\n",
      "Saved file: high-latitude-dust_2013-11-16_190.png\n",
      "273 551\n",
      "Saved file: high-latitude-dust_2013-11-16_220.png\n",
      "327 655\n",
      "Saved file: high-latitude-dust_2013-11-16_225.png\n",
      "173 347\n",
      "Saved file: high-latitude-dust_2013-11-16_288.png\n",
      "228 412\n",
      "Saved file: high-latitude-dust_2013-11-16_38.png\n",
      "278 783\n",
      "Saved file: high-latitude-dust_2013-11-16_39.png\n",
      "589 495\n",
      "Saved file: high-latitude-dust_2013-11-17_216.png\n",
      "349 1119\n"
     ]
    },
    {
     "name": "stdout",
     "output_type": "stream",
     "text": [
      "Saved file: high-latitude-dust_2013-11-17_217.png\n",
      "702 850\n",
      "Saved file: high-latitude-dust_2014-10-28_215.png\n",
      "1795 1188\n",
      "Saved file: high-latitude-dust_2015-04-01_117.png\n",
      "1117 417\n",
      "Saved file: high-latitude-dust_2015-04-01_118.png\n",
      "718 204\n",
      "Saved file: high-latitude-dust_2015-04-01_119.png\n",
      "1830 1143\n",
      "Saved file: high-latitude-dust_2015-04-01_43.png\n",
      "1422 416\n",
      "Saved file: high-latitude-dust_2015-04-02_120.png\n",
      "1445 456\n",
      "Saved file: high-latitude-dust_2015-04-02_44.png\n",
      "1452 329\n",
      "Saved file: high-latitude-dust_2015-04-02_76.png\n",
      "6158 2833\n",
      "Saved file: high-latitude-dust_2015-04-24_73.png\n",
      "5342 2536\n",
      "Saved file: high-latitude-dust_2015-04-24_74.png\n",
      "1156 1015\n",
      "Saved file: high-latitude-dust_2015-05-20_121.png\n",
      "841 475\n",
      "Saved file: high-latitude-dust_2015-05-20_122.png\n",
      "1189 1004\n",
      "Saved file: high-latitude-dust_2015-05-20_45.png\n",
      "661 277\n",
      "Saved file: high-latitude-dust_2015-05-21_123.png\n",
      "724 504\n",
      "Saved file: high-latitude-dust_2015-05-21_46.png\n",
      "1176 200\n",
      "Saved file: high-latitude-dust_2015-05-22_124.png\n",
      "544 87\n",
      "Saved file: high-latitude-dust_2015-05-22_125.png\n",
      "1455 280\n",
      "Saved file: high-latitude-dust_2015-05-22_47.png\n",
      "759 1260\n",
      "Saved file: high-latitude-dust_2015-11-13_214.png\n",
      "1835 1470\n",
      "Saved file: high-latitude-dust_2016-02-20_126.png\n",
      "1933 1482\n",
      "Saved file: high-latitude-dust_2016-02-20_48.png\n",
      "721 649\n",
      "Saved file: high-latitude-dust_2016-10-06_218.png\n",
      "994 1034\n",
      "Saved file: high-latitude-dust_2016-10-23_212.png\n",
      "1644 1687\n",
      "Saved file: high-latitude-dust_2016-10-24_211.png\n",
      "2024 1176\n",
      "Saved file: high-latitude-dust_2016-10-25_210.png\n",
      "1361 1607\n",
      "Saved file: high-latitude-dust_2017-11-07_213.png\n",
      "456 435\n",
      "Saved file: high-latitude-dust_2017-11-08_191.png\n",
      "695 770\n",
      "Saved file: high-latitude-dust_2017-11-08_209.png\n",
      "1058 702\n",
      "Saved file: high-latitude-dust_2017-11-11_205.png\n",
      "207 300\n",
      "Saved file: high-latitude-dust_2017-11-11_206.png\n",
      "650 2146\n",
      "Saved file: high-latitude-dust_2017-11-11_207.png\n",
      "379 899\n",
      "Saved file: high-latitude-dust_2017-11-13_204.png\n",
      "372 1584\n",
      "Saved file: high-latitude-dust_2017-11-13_208.png\n",
      "218 360\n",
      "Saved file: high-latitude-dust_2017-11-13_36.png\n",
      "348 1525\n",
      "Saved file: high-latitude-dust_2017-11-13_40.png\n",
      "1559 1537\n",
      "Saved file: high-latitude-dust_2017-11-14_201.png\n",
      "711 1826\n",
      "Saved file: high-latitude-dust_2017-11-14_202.png\n",
      "541 1756\n",
      "Saved file: high-latitude-dust_2017-11-15_149.png\n",
      "530 1829\n",
      "Saved file: high-latitude-dust_2017-11-15_150.png\n",
      "713 2005\n",
      "Saved file: high-latitude-dust_2017-11-15_194.png\n",
      "616 1783\n",
      "Saved file: high-latitude-dust_2017-11-15_200.png\n",
      "681 1748\n",
      "Saved file: high-latitude-dust_2017-11-18_203.png\n",
      "252 427\n",
      "Saved file: high-latitude-dust_2018-01-20_199.png\n",
      "247 445\n",
      "Saved file: high-latitude-dust_2018-01-28_197.png\n",
      "571 360\n",
      "Saved file: high-latitude-dust_2018-02-03_196.png\n",
      "704 1248\n",
      "Saved file: high-latitude-dust_2018-02-17_195.png\n",
      "363 230\n",
      "Saved file: high-latitude-dust_2018-05-08_192.png\n",
      "361 537\n",
      "Saved file: high-latitude-dust_2018-10-31_193.png\n",
      "777 1080\n",
      "Saved file: high-latitude-dust_2018-11-01_198.png\n",
      "508 687\n",
      "Saved file: high-latitude-dust_2019-02-25_10.png\n",
      "417 407\n",
      "Saved file: high-latitude-dust_2019-02-25_11.png\n",
      "417 407\n",
      "Saved file: high-latitude-dust_2019-02-25_12.png\n",
      "592 927\n",
      "Saved file: high-latitude-dust_2019-02-25_13.png\n",
      "592 927\n",
      "Saved file: high-latitude-dust_2019-02-25_14.png\n",
      "592 927\n",
      "Saved file: high-latitude-dust_2019-02-25_15.png\n",
      "592 927\n",
      "Saved file: high-latitude-dust_2019-02-25_16.png\n",
      "630 585\n",
      "Saved file: high-latitude-dust_2019-02-25_19.png\n",
      "226 161\n",
      "Saved file: high-latitude-dust_2019-02-25_20.png\n",
      "504 328\n",
      "Saved file: high-latitude-dust_2019-02-25_21.png\n",
      "253 207\n",
      "Saved file: high-latitude-dust_2019-02-25_7.png\n",
      "179 146\n",
      "Saved file: high-latitude-dust_2019-02-25_8.png\n",
      "284 195\n",
      "Saved file: high-latitude-dust_2019-02-25_9.png\n",
      "10474 7431\n",
      "Saved file: high-latitude-dust_2019-03-26_111.png\n",
      "1424 1295\n",
      "Saved file: high-latitude-dust_2019-11-09_289.png\n"
     ]
    }
   ],
   "source": [
    "#from django.core.files import File\n",
    "import shutil \n",
    "for i, j, k in zip(dateonly, bbox_rotated, dates):\n",
    "    try:\n",
    "        width, height, url = modis_url(i+'T00:00:00Z',j, 0.25)\n",
    "        response = requests.get(strip(url))\n",
    "        img = BytesIO(response.content)\n",
    "        im = Image.open(img)\n",
    "        #im.show()\n",
    "        im.save(\"../../Documents/NASA/Data/Dust_Pics/high-latitude-dust_\"+k+\".png\")\n",
    "        print(\"Saved file: \" + \"high-latitude-dust_\"+k+\".png\")\n",
    "    except:\n",
    "        shutil.move(\"../../Documents/NASA/Data/high-latitude-dust_\"+k, \"../../Documents/NASA/No_Data\")\n",
    "        print(\"Error\" + \"high-latitude-dust_\"+k)\n",
    "   # im.qrcode_file.save('../../Documents/NASA/Data/Dust_Pics/high-latitude-dust'+k, File(im), save=False) "
   ]
  },
  {
   "cell_type": "code",
   "execution_count": 37,
   "metadata": {},
   "outputs": [
    {
     "name": "stdout",
     "output_type": "stream",
     "text": [
      "[('2002-10-23', [-19.05626, 62.637483, -17.143616, 63.602063]), ('2003-01-19', [-67.575581, -45.764561, -63.257844, -44.841727])]\n",
      "206\n",
      "[[-19.05626, 62.637483, -17.143616, 63.602063], [-67.575581, -45.764561, -63.257844, -44.841727]]\n",
      "['2002-10-23', '2003-01-19']\n"
     ]
    }
   ],
   "source": [
    "nasalist = list(zip(dateonly,bbox))\n",
    "print (nasalist[1:3])\n",
    "print (len(nasalist))\n",
    "#check\n",
    "print (bbox[1:3])\n",
    "print (dateonly[1:3])"
   ]
  },
  {
   "cell_type": "code",
   "execution_count": 38,
   "metadata": {},
   "outputs": [],
   "source": [
    "with open('nasa.txt', 'w') as f:\n",
    "    for item in nasalist:\n",
    "        f.write(str(item) +\"\\n\")"
   ]
  },
  {
   "cell_type": "code",
   "execution_count": null,
   "metadata": {},
   "outputs": [],
   "source": []
  }
 ],
 "metadata": {
  "kernelspec": {
   "display_name": "Python 3",
   "language": "python",
   "name": "python3"
  },
  "language_info": {
   "codemirror_mode": {
    "name": "ipython",
    "version": 3
   },
   "file_extension": ".py",
   "mimetype": "text/x-python",
   "name": "python",
   "nbconvert_exporter": "python",
   "pygments_lexer": "ipython3",
   "version": "3.7.4"
  }
 },
 "nbformat": 4,
 "nbformat_minor": 2
}
