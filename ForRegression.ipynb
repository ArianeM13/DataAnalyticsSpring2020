{
 "cells": [
  {
   "cell_type": "code",
   "execution_count": 8,
   "metadata": {},
   "outputs": [],
   "source": [
    "import re\n",
    "import os"
   ]
  },
  {
   "cell_type": "code",
   "execution_count": 17,
   "metadata": {},
   "outputs": [],
   "source": [
    "precip_dates =[]\n",
    "path = '/Users/arianemaharaj/Documents/NASA/Precipitation/Precip_csv'\n",
    "for filename in os.listdir(path):\n",
    "    if filename.endswith('.csv'):\n",
    "        precip_dates.append(filename.split(\".\")[0])"
   ]
  },
  {
   "cell_type": "code",
   "execution_count": 18,
   "metadata": {},
   "outputs": [
    {
     "name": "stdout",
     "output_type": "stream",
     "text": [
      "377\n",
      "['2010-02-08', '2009-07-07', '2005-01-12', '2017-11-10', '2016-10-27']\n"
     ]
    }
   ],
   "source": [
    "print(len(precip_dates))\n",
    "print(precip_dates[0:5])"
   ]
  },
  {
   "cell_type": "code",
   "execution_count": 19,
   "metadata": {},
   "outputs": [
    {
     "name": "stdout",
     "output_type": "stream",
     "text": [
      "['2002-10-21', '2002-10-22', '2002-10-23', '2002-10-24', '2002-10-25']\n"
     ]
    }
   ],
   "source": [
    "precip_dates.sort()\n",
    "print(precip_dates[0:5])"
   ]
  },
  {
   "cell_type": "code",
   "execution_count": 34,
   "metadata": {},
   "outputs": [
    {
     "name": "stdout",
     "output_type": "stream",
     "text": [
      "2002-\n",
      "2266\n"
     ]
    }
   ],
   "source": [
    "#NOT WHAT I WANT\n",
    "f = open(\"dateonly.txt\",\"r\")\n",
    "if f.mode == 'r':\n",
    "    dust_dates = f.read()\n",
    "    print(dust_dates[0:5])\n",
    "    print(len(dust_dates))"
   ]
  },
  {
   "cell_type": "code",
   "execution_count": 38,
   "metadata": {},
   "outputs": [],
   "source": [
    "filename = \"dateonly.txt\"\n",
    "dust_dates = []\n",
    "with open(filename, 'r') as file:\n",
    "    for line in file:\n",
    "        dust_dates.append(line.strip())"
   ]
  },
  {
   "cell_type": "code",
   "execution_count": 39,
   "metadata": {},
   "outputs": [
    {
     "name": "stdout",
     "output_type": "stream",
     "text": [
      "['2002-10-22', '2002-10-23', '2003-01-19', '2003-01-19', '2003-03-09']\n",
      "206\n"
     ]
    }
   ],
   "source": [
    "print(dust_dates[0:5])\n",
    "print(len(dust_dates))"
   ]
  },
  {
   "cell_type": "code",
   "execution_count": 72,
   "metadata": {},
   "outputs": [
    {
     "ename": "ValueError",
     "evalue": "Unable to parse string \"--\" at position 9",
     "output_type": "error",
     "traceback": [
      "\u001b[0;31m---------------------------------------------------------------------------\u001b[0m",
      "\u001b[0;31mValueError\u001b[0m                                Traceback (most recent call last)",
      "\u001b[0;32mpandas/_libs/lib.pyx\u001b[0m in \u001b[0;36mpandas._libs.lib.maybe_convert_numeric\u001b[0;34m()\u001b[0m\n",
      "\u001b[0;31mValueError\u001b[0m: Unable to parse string \"--\"",
      "\nDuring handling of the above exception, another exception occurred:\n",
      "\u001b[0;31mValueError\u001b[0m                                Traceback (most recent call last)",
      "\u001b[0;32m<ipython-input-72-4b40c6c0fe3e>\u001b[0m in \u001b[0;36m<module>\u001b[0;34m\u001b[0m\n\u001b[1;32m      3\u001b[0m \u001b[0mdata\u001b[0m \u001b[0;34m=\u001b[0m \u001b[0mpd\u001b[0m\u001b[0;34m.\u001b[0m\u001b[0mread_csv\u001b[0m\u001b[0;34m(\u001b[0m\u001b[0;34m'Precipitation/Precip_csv/'\u001b[0m\u001b[0;34m+\u001b[0m \u001b[0mfilename\u001b[0m\u001b[0;34m)\u001b[0m\u001b[0;34m\u001b[0m\u001b[0;34m\u001b[0m\u001b[0m\n\u001b[1;32m      4\u001b[0m \u001b[0;31m#data['Precipitation(mm)'].mean()\u001b[0m\u001b[0;34m\u001b[0m\u001b[0;34m\u001b[0m\u001b[0;34m\u001b[0m\u001b[0m\n\u001b[0;32m----> 5\u001b[0;31m \u001b[0mprecipitation\u001b[0m \u001b[0;34m=\u001b[0m \u001b[0mpd\u001b[0m\u001b[0;34m.\u001b[0m\u001b[0mto_numeric\u001b[0m\u001b[0;34m(\u001b[0m\u001b[0mdata\u001b[0m\u001b[0;34m[\u001b[0m\u001b[0;34m'Precipitation(mm)'\u001b[0m\u001b[0;34m]\u001b[0m\u001b[0;34m)\u001b[0m\u001b[0;34m\u001b[0m\u001b[0;34m\u001b[0m\u001b[0m\n\u001b[0m",
      "\u001b[0;32m~/opt/anaconda3/lib/python3.7/site-packages/pandas/core/tools/numeric.py\u001b[0m in \u001b[0;36mto_numeric\u001b[0;34m(arg, errors, downcast)\u001b[0m\n\u001b[1;32m    149\u001b[0m             \u001b[0mcoerce_numeric\u001b[0m \u001b[0;34m=\u001b[0m \u001b[0merrors\u001b[0m \u001b[0;32mnot\u001b[0m \u001b[0;32min\u001b[0m \u001b[0;34m(\u001b[0m\u001b[0;34m\"ignore\"\u001b[0m\u001b[0;34m,\u001b[0m \u001b[0;34m\"raise\"\u001b[0m\u001b[0;34m)\u001b[0m\u001b[0;34m\u001b[0m\u001b[0;34m\u001b[0m\u001b[0m\n\u001b[1;32m    150\u001b[0m             values = lib.maybe_convert_numeric(\n\u001b[0;32m--> 151\u001b[0;31m                 \u001b[0mvalues\u001b[0m\u001b[0;34m,\u001b[0m \u001b[0mset\u001b[0m\u001b[0;34m(\u001b[0m\u001b[0;34m)\u001b[0m\u001b[0;34m,\u001b[0m \u001b[0mcoerce_numeric\u001b[0m\u001b[0;34m=\u001b[0m\u001b[0mcoerce_numeric\u001b[0m\u001b[0;34m\u001b[0m\u001b[0;34m\u001b[0m\u001b[0m\n\u001b[0m\u001b[1;32m    152\u001b[0m             )\n\u001b[1;32m    153\u001b[0m \u001b[0;34m\u001b[0m\u001b[0m\n",
      "\u001b[0;32mpandas/_libs/lib.pyx\u001b[0m in \u001b[0;36mpandas._libs.lib.maybe_convert_numeric\u001b[0;34m()\u001b[0m\n",
      "\u001b[0;31mValueError\u001b[0m: Unable to parse string \"--\" at position 9"
     ]
    }
   ],
   "source": [
    "import pandas as pd\n",
    "filename = '2002-10-22.csv'\n",
    "data = pd.read_csv('Precipitation/Precip_csv/'+ filename)\n",
    "data['Precipitation(mm)'].mean()\n"
   ]
  },
  {
   "cell_type": "code",
   "execution_count": 78,
   "metadata": {},
   "outputs": [
    {
     "data": {
      "text/plain": [
       "0.02600709221087561"
      ]
     },
     "execution_count": 78,
     "metadata": {},
     "output_type": "execute_result"
    }
   ],
   "source": [
    "import numpy as np\n",
    "filename = '2002-10-22.csv'\n",
    "data = pd.read_csv(filename)\n",
    "data['Precipitation(mm)'].replace('--', np.nan, inplace=True)\n",
    "data.dropna(subset=['Precipitation(mm)'], inplace=True)\n",
    "precipitation = pd.to_numeric(data['Precipitation(mm)'])\n",
    "precipitation\n",
    "precipitation.mean()\n"
   ]
  },
  {
   "cell_type": "code",
   "execution_count": 79,
   "metadata": {},
   "outputs": [
    {
     "data": {
      "text/plain": [
       "0.030363407374074076"
      ]
     },
     "execution_count": 79,
     "metadata": {},
     "output_type": "execute_result"
    }
   ],
   "source": [
    "import pandas as pd\n",
    "filename = '2002-10-21.csv'\n",
    "data = pd.read_csv('Precipitation/Precip_csv/'+ filename)\n",
    "data['Precipitation(mm)'].mean()\n"
   ]
  },
  {
   "cell_type": "code",
   "execution_count": 80,
   "metadata": {},
   "outputs": [
    {
     "data": {
      "text/plain": [
       "0.030363407374074076"
      ]
     },
     "execution_count": 80,
     "metadata": {},
     "output_type": "execute_result"
    }
   ],
   "source": [
    "import pandas as pd\n",
    "filename = '2002-10-21.csv'\n",
    "data = pd.read_csv('Precipitation/Precip_csv/'+ filename)\n",
    "data['Precipitation(mm)'].replace('--', np.nan, inplace=True)\n",
    "data.dropna(subset=['Precipitation(mm)'], inplace=True)\n",
    "precipitation = pd.to_numeric(data['Precipitation(mm)'])\n",
    "precipitation\n",
    "precipitation.mean()\n"
   ]
  },
  {
   "cell_type": "code",
   "execution_count": 81,
   "metadata": {},
   "outputs": [],
   "source": [
    "precip_amt = []\n",
    "precip_dates2 = []\n",
    "for dates in precip_dates:\n",
    "    filename = dates + '.csv'\n",
    "    data = pd.read_csv('Precipitation/Precip_csv/'+ filename)\n",
    "    data['Precipitation(mm)'].replace('--', np.nan, inplace=True)\n",
    "    data.dropna(subset=['Precipitation(mm)'], inplace=True)\n",
    "    precipitation = pd.to_numeric(data['Precipitation(mm)'])\n",
    "    precip_amt.append(precipitation.mean())\n",
    "    precip_dates2.append(dates)\n",
    "    "
   ]
  },
  {
   "cell_type": "code",
   "execution_count": 86,
   "metadata": {},
   "outputs": [
    {
     "name": "stdout",
     "output_type": "stream",
     "text": [
      "377\n",
      "377\n"
     ]
    }
   ],
   "source": [
    "print(len(precip_dates2))\n",
    "print(len(precip_amt))"
   ]
  },
  {
   "cell_type": "code",
   "execution_count": 83,
   "metadata": {},
   "outputs": [
    {
     "data": {
      "text/html": [
       "<div>\n",
       "<style scoped>\n",
       "    .dataframe tbody tr th:only-of-type {\n",
       "        vertical-align: middle;\n",
       "    }\n",
       "\n",
       "    .dataframe tbody tr th {\n",
       "        vertical-align: top;\n",
       "    }\n",
       "\n",
       "    .dataframe thead th {\n",
       "        text-align: right;\n",
       "    }\n",
       "</style>\n",
       "<table border=\"1\" class=\"dataframe\">\n",
       "  <thead>\n",
       "    <tr style=\"text-align: right;\">\n",
       "      <th></th>\n",
       "      <th>Date</th>\n",
       "      <th>Precipitation(mm)</th>\n",
       "    </tr>\n",
       "  </thead>\n",
       "  <tbody>\n",
       "    <tr>\n",
       "      <td>0</td>\n",
       "      <td>2002-10-21</td>\n",
       "      <td>0.030363</td>\n",
       "    </tr>\n",
       "    <tr>\n",
       "      <td>1</td>\n",
       "      <td>2002-10-22</td>\n",
       "      <td>0.026007</td>\n",
       "    </tr>\n",
       "    <tr>\n",
       "      <td>2</td>\n",
       "      <td>2002-10-23</td>\n",
       "      <td>0.017095</td>\n",
       "    </tr>\n",
       "    <tr>\n",
       "      <td>3</td>\n",
       "      <td>2002-10-24</td>\n",
       "      <td>0.005773</td>\n",
       "    </tr>\n",
       "    <tr>\n",
       "      <td>4</td>\n",
       "      <td>2002-10-25</td>\n",
       "      <td>0.026458</td>\n",
       "    </tr>\n",
       "  </tbody>\n",
       "</table>\n",
       "</div>"
      ],
      "text/plain": [
       "         Date  Precipitation(mm)\n",
       "0  2002-10-21           0.030363\n",
       "1  2002-10-22           0.026007\n",
       "2  2002-10-23           0.017095\n",
       "3  2002-10-24           0.005773\n",
       "4  2002-10-25           0.026458"
      ]
     },
     "execution_count": 83,
     "metadata": {},
     "output_type": "execute_result"
    }
   ],
   "source": [
    "df = pd.DataFrame({\"Date\": precip_dates2, \"Precipitation(mm)\": precip_amt})\n",
    "df.head(5)"
   ]
  },
  {
   "cell_type": "code",
   "execution_count": 84,
   "metadata": {},
   "outputs": [
    {
     "name": "stdout",
     "output_type": "stream",
     "text": [
      "377\n",
      "[('2002-10-21', 0.030363407374074076), ('2002-10-22', 0.02600709221087561), ('2002-10-23', 0.017095480236359442), ('2002-10-24', 0.005773034435458713), ('2002-10-25', 0.02645837523532111)]\n"
     ]
    }
   ],
   "source": [
    "precip = list(zip(precip_dates2,precip_amt))\n",
    "print(len(precip))\n",
    "print(precip[0:5])"
   ]
  },
  {
   "cell_type": "code",
   "execution_count": 87,
   "metadata": {},
   "outputs": [],
   "source": [
    "dates_binary = []\n",
    "for i in precip_dates2:\n",
    "    if i in dust_dates:\n",
    "        dates_binary.append(1)\n",
    "    else:\n",
    "        dates_binary.append(0)"
   ]
  },
  {
   "cell_type": "code",
   "execution_count": 91,
   "metadata": {},
   "outputs": [
    {
     "name": "stdout",
     "output_type": "stream",
     "text": [
      "377\n",
      "[0, 1, 1, 0, 0, 0, 1, 0, 0, 0]\n"
     ]
    }
   ],
   "source": [
    "print(len(dates_binary))\n",
    "print(dates_binary[0:10])"
   ]
  },
  {
   "cell_type": "code",
   "execution_count": 92,
   "metadata": {},
   "outputs": [
    {
     "name": "stdout",
     "output_type": "stream",
     "text": [
      "['2002-10-21', '2002-10-22', '2002-10-23', '2002-10-24', '2002-10-25', '2003-01-18', '2003-01-19', '2003-01-20', '2003-01-21', '2003-03-07']\n",
      "['2002-10-22', '2002-10-23', '2003-01-19', '2003-01-19', '2003-03-09', '2003-03-11', '2003-03-12', '2003-03-12', '2003-03-12', '2003-03-12']\n"
     ]
    }
   ],
   "source": [
    "#Making sure it is correct\n",
    "print(precip_dates2[0:10])\n",
    "print(dust_dates[0:10])"
   ]
  },
  {
   "cell_type": "code",
   "execution_count": 93,
   "metadata": {},
   "outputs": [
    {
     "name": "stdout",
     "output_type": "stream",
     "text": [
      "112\n",
      "['2002-10-22', '2002-10-23', '2003-01-19', '2003-03-09', '2003-03-11', '2003-03-12', '2003-03-13', '2003-09-15', '2003-09-18', '2003-10-30']\n"
     ]
    }
   ],
   "source": [
    "#try with removing duplicates to see if get similar result\n",
    "dust_dates2 = list(dict.fromkeys(dust_dates))\n",
    "print(len(dust_dates2))\n",
    "print(dust_dates2[0:10])"
   ]
  },
  {
   "cell_type": "code",
   "execution_count": 94,
   "metadata": {},
   "outputs": [],
   "source": [
    "dates_binary2 = []\n",
    "for i in precip_dates2:\n",
    "    if i in dust_dates2:\n",
    "        dates_binary2.append(1)\n",
    "    else:\n",
    "        dates_binary2.append(0)"
   ]
  },
  {
   "cell_type": "code",
   "execution_count": 95,
   "metadata": {},
   "outputs": [
    {
     "name": "stdout",
     "output_type": "stream",
     "text": [
      "377\n",
      "[0, 1, 1, 0, 0, 0, 1, 0, 0, 0]\n"
     ]
    }
   ],
   "source": [
    "print(len(dates_binary2))\n",
    "print(dates_binary2[0:10])\n",
    "#Same Results"
   ]
  },
  {
   "cell_type": "code",
   "execution_count": 97,
   "metadata": {},
   "outputs": [
    {
     "data": {
      "text/html": [
       "<div>\n",
       "<style scoped>\n",
       "    .dataframe tbody tr th:only-of-type {\n",
       "        vertical-align: middle;\n",
       "    }\n",
       "\n",
       "    .dataframe tbody tr th {\n",
       "        vertical-align: top;\n",
       "    }\n",
       "\n",
       "    .dataframe thead th {\n",
       "        text-align: right;\n",
       "    }\n",
       "</style>\n",
       "<table border=\"1\" class=\"dataframe\">\n",
       "  <thead>\n",
       "    <tr style=\"text-align: right;\">\n",
       "      <th></th>\n",
       "      <th>Date_bin</th>\n",
       "      <th>Precip_avg(mm)</th>\n",
       "    </tr>\n",
       "  </thead>\n",
       "  <tbody>\n",
       "    <tr>\n",
       "      <td>0</td>\n",
       "      <td>0</td>\n",
       "      <td>0.030363</td>\n",
       "    </tr>\n",
       "    <tr>\n",
       "      <td>1</td>\n",
       "      <td>1</td>\n",
       "      <td>0.026007</td>\n",
       "    </tr>\n",
       "    <tr>\n",
       "      <td>2</td>\n",
       "      <td>1</td>\n",
       "      <td>0.017095</td>\n",
       "    </tr>\n",
       "    <tr>\n",
       "      <td>3</td>\n",
       "      <td>0</td>\n",
       "      <td>0.005773</td>\n",
       "    </tr>\n",
       "    <tr>\n",
       "      <td>4</td>\n",
       "      <td>0</td>\n",
       "      <td>0.026458</td>\n",
       "    </tr>\n",
       "    <tr>\n",
       "      <td>5</td>\n",
       "      <td>0</td>\n",
       "      <td>0.270050</td>\n",
       "    </tr>\n",
       "    <tr>\n",
       "      <td>6</td>\n",
       "      <td>1</td>\n",
       "      <td>0.204496</td>\n",
       "    </tr>\n",
       "    <tr>\n",
       "      <td>7</td>\n",
       "      <td>0</td>\n",
       "      <td>0.000301</td>\n",
       "    </tr>\n",
       "    <tr>\n",
       "      <td>8</td>\n",
       "      <td>0</td>\n",
       "      <td>0.451951</td>\n",
       "    </tr>\n",
       "    <tr>\n",
       "      <td>9</td>\n",
       "      <td>0</td>\n",
       "      <td>0.366921</td>\n",
       "    </tr>\n",
       "  </tbody>\n",
       "</table>\n",
       "</div>"
      ],
      "text/plain": [
       "   Date_bin  Precip_avg(mm)\n",
       "0         0        0.030363\n",
       "1         1        0.026007\n",
       "2         1        0.017095\n",
       "3         0        0.005773\n",
       "4         0        0.026458\n",
       "5         0        0.270050\n",
       "6         1        0.204496\n",
       "7         0        0.000301\n",
       "8         0        0.451951\n",
       "9         0        0.366921"
      ]
     },
     "execution_count": 97,
     "metadata": {},
     "output_type": "execute_result"
    }
   ],
   "source": [
    "df2 = pd.DataFrame({\"Date_bin\": dates_binary2, \"Precip_avg(mm)\": precip_amt})\n",
    "df2.head(10)"
   ]
  },
  {
   "cell_type": "code",
   "execution_count": 99,
   "metadata": {},
   "outputs": [],
   "source": [
    "dust_dates3 = []\n",
    "for i in precip_dates2:\n",
    "    if i in dust_dates2:\n",
    "        dust_dates3.append(i)\n",
    "    else:\n",
    "        dust_dates3.append('-')"
   ]
  },
  {
   "cell_type": "code",
   "execution_count": 100,
   "metadata": {},
   "outputs": [
    {
     "data": {
      "text/html": [
       "<div>\n",
       "<style scoped>\n",
       "    .dataframe tbody tr th:only-of-type {\n",
       "        vertical-align: middle;\n",
       "    }\n",
       "\n",
       "    .dataframe tbody tr th {\n",
       "        vertical-align: top;\n",
       "    }\n",
       "\n",
       "    .dataframe thead th {\n",
       "        text-align: right;\n",
       "    }\n",
       "</style>\n",
       "<table border=\"1\" class=\"dataframe\">\n",
       "  <thead>\n",
       "    <tr style=\"text-align: right;\">\n",
       "      <th></th>\n",
       "      <th>Precip_Date</th>\n",
       "      <th>Dust_Date</th>\n",
       "      <th>Date_bin</th>\n",
       "      <th>Precip_avg(mm)</th>\n",
       "    </tr>\n",
       "  </thead>\n",
       "  <tbody>\n",
       "    <tr>\n",
       "      <td>0</td>\n",
       "      <td>2002-10-21</td>\n",
       "      <td>-</td>\n",
       "      <td>0</td>\n",
       "      <td>0.030363</td>\n",
       "    </tr>\n",
       "    <tr>\n",
       "      <td>1</td>\n",
       "      <td>2002-10-22</td>\n",
       "      <td>2002-10-22</td>\n",
       "      <td>1</td>\n",
       "      <td>0.026007</td>\n",
       "    </tr>\n",
       "    <tr>\n",
       "      <td>2</td>\n",
       "      <td>2002-10-23</td>\n",
       "      <td>2002-10-23</td>\n",
       "      <td>1</td>\n",
       "      <td>0.017095</td>\n",
       "    </tr>\n",
       "    <tr>\n",
       "      <td>3</td>\n",
       "      <td>2002-10-24</td>\n",
       "      <td>-</td>\n",
       "      <td>0</td>\n",
       "      <td>0.005773</td>\n",
       "    </tr>\n",
       "    <tr>\n",
       "      <td>4</td>\n",
       "      <td>2002-10-25</td>\n",
       "      <td>-</td>\n",
       "      <td>0</td>\n",
       "      <td>0.026458</td>\n",
       "    </tr>\n",
       "    <tr>\n",
       "      <td>5</td>\n",
       "      <td>2003-01-18</td>\n",
       "      <td>-</td>\n",
       "      <td>0</td>\n",
       "      <td>0.270050</td>\n",
       "    </tr>\n",
       "    <tr>\n",
       "      <td>6</td>\n",
       "      <td>2003-01-19</td>\n",
       "      <td>2003-01-19</td>\n",
       "      <td>1</td>\n",
       "      <td>0.204496</td>\n",
       "    </tr>\n",
       "    <tr>\n",
       "      <td>7</td>\n",
       "      <td>2003-01-20</td>\n",
       "      <td>-</td>\n",
       "      <td>0</td>\n",
       "      <td>0.000301</td>\n",
       "    </tr>\n",
       "    <tr>\n",
       "      <td>8</td>\n",
       "      <td>2003-01-21</td>\n",
       "      <td>-</td>\n",
       "      <td>0</td>\n",
       "      <td>0.451951</td>\n",
       "    </tr>\n",
       "    <tr>\n",
       "      <td>9</td>\n",
       "      <td>2003-03-07</td>\n",
       "      <td>-</td>\n",
       "      <td>0</td>\n",
       "      <td>0.366921</td>\n",
       "    </tr>\n",
       "  </tbody>\n",
       "</table>\n",
       "</div>"
      ],
      "text/plain": [
       "  Precip_Date   Dust_Date  Date_bin  Precip_avg(mm)\n",
       "0  2002-10-21           -         0        0.030363\n",
       "1  2002-10-22  2002-10-22         1        0.026007\n",
       "2  2002-10-23  2002-10-23         1        0.017095\n",
       "3  2002-10-24           -         0        0.005773\n",
       "4  2002-10-25           -         0        0.026458\n",
       "5  2003-01-18           -         0        0.270050\n",
       "6  2003-01-19  2003-01-19         1        0.204496\n",
       "7  2003-01-20           -         0        0.000301\n",
       "8  2003-01-21           -         0        0.451951\n",
       "9  2003-03-07           -         0        0.366921"
      ]
     },
     "execution_count": 100,
     "metadata": {},
     "output_type": "execute_result"
    }
   ],
   "source": [
    "dfcheck = pd.DataFrame({\"Precip_Date\": precip_dates2, \n",
    "                        \"Dust_Date\":dust_dates3,\n",
    "                        \"Date_bin\": dates_binary2, \n",
    "                        \"Precip_avg(mm)\": precip_amt})\n",
    "dfcheck.head(10)"
   ]
  },
  {
   "cell_type": "code",
   "execution_count": 101,
   "metadata": {},
   "outputs": [],
   "source": [
    "df2.to_csv(\"Precip_Binary.csv\", index = False)"
   ]
  },
  {
   "cell_type": "code",
   "execution_count": null,
   "metadata": {},
   "outputs": [],
   "source": []
  }
 ],
 "metadata": {
  "kernelspec": {
   "display_name": "Python 3",
   "language": "python",
   "name": "python3"
  },
  "language_info": {
   "codemirror_mode": {
    "name": "ipython",
    "version": 3
   },
   "file_extension": ".py",
   "mimetype": "text/x-python",
   "name": "python",
   "nbconvert_exporter": "python",
   "pygments_lexer": "ipython3",
   "version": "3.7.4"
  }
 },
 "nbformat": 4,
 "nbformat_minor": 2
}
