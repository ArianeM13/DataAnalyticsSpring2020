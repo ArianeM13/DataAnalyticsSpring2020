{
 "cells": [
  {
   "cell_type": "code",
   "execution_count": 80,
   "metadata": {},
   "outputs": [],
   "source": [
    "import netCDF4\n",
    "import pandas as pd\n",
    "\n"
   ]
  },
  {
   "cell_type": "code",
   "execution_count": 16,
   "metadata": {},
   "outputs": [
    {
     "name": "stdout",
     "output_type": "stream",
     "text": [
      "<class 'netCDF4._netCDF4.Dataset'>\n",
      "root group (NETCDF4_CLASSIC data model, file format HDF5):\n",
      "    BeginDate: 2002-10-21\n",
      "    BeginTime: 00:00:00.000Z\n",
      "    EndDate: 2002-10-21\n",
      "    EndTime: 23:59:59.999Z\n",
      "    FileHeader: StartGranuleDateTime=2002-10-21T00:00:00.000Z;\n",
      "StopGranuleDateTime=2002-10-21T23:59:59.999Z\n",
      "    InputPointer: 3B-HHR.MS.MRG.3IMERG.20021021-S000000-E002959.0000.V06B.HDF5;3B-HHR.MS.MRG.3IMERG.20021021-S003000-E005959.0030.V06B.HDF5;3B-HHR.MS.MRG.3IMERG.20021021-S010000-E012959.0060.V06B.HDF5;3B-HHR.MS.MRG.3IMERG.20021021-S013000-E015959.0090.V06B.HDF5;3B-HHR.MS.MRG.3IMERG.20021021-S020000-E022959.0120.V06B.HDF5;3B-HHR.MS.MRG.3IMERG.20021021-S023000-E025959.0150.V06B.HDF5;3B-HHR.MS.MRG.3IMERG.20021021-S030000-E032959.0180.V06B.HDF5;3B-HHR.MS.MRG.3IMERG.20021021-S033000-E035959.0210.V06B.HDF5;3B-HHR.MS.MRG.3IMERG.20021021-S040000-E042959.0240.V06B.HDF5;3B-HHR.MS.MRG.3IMERG.20021021-S043000-E045959.0270.V06B.HDF5;3B-HHR.MS.MRG.3IMERG.20021021-S050000-E052959.0300.V06B.HDF5;3B-HHR.MS.MRG.3IMERG.20021021-S053000-E055959.0330.V06B.HDF5;3B-HHR.MS.MRG.3IMERG.20021021-S060000-E062959.0360.V06B.HDF5;3B-HHR.MS.MRG.3IMERG.20021021-S063000-E065959.0390.V06B.HDF5;3B-HHR.MS.MRG.3IMERG.20021021-S070000-E072959.0420.V06B.HDF5;3B-HHR.MS.MRG.3IMERG.20021021-S073000-E075959.0450.V06B.HDF5;3B-HHR.MS.MRG.3IMERG.20021021-S080000-E082959.0480.V06B.HDF5;3B-HHR.MS.MRG.3IMERG.20021021-S083000-E085959.0510.V06B.HDF5;3B-HHR.MS.MRG.3IMERG.20021021-S090000-E092959.0540.V06B.HDF5;3B-HHR.MS.MRG.3IMERG.20021021-S093000-E095959.0570.V06B.HDF5;3B-HHR.MS.MRG.3IMERG.20021021-S100000-E102959.0600.V06B.HDF5;3B-HHR.MS.MRG.3IMERG.20021021-S103000-E105959.0630.V06B.HDF5;3B-HHR.MS.MRG.3IMERG.20021021-S110000-E112959.0660.V06B.HDF5;3B-HHR.MS.MRG.3IMERG.20021021-S113000-E115959.0690.V06B.HDF5;3B-HHR.MS.MRG.3IMERG.20021021-S120000-E122959.0720.V06B.HDF5;3B-HHR.MS.MRG.3IMERG.20021021-S123000-E125959.0750.V06B.HDF5;3B-HHR.MS.MRG.3IMERG.20021021-S130000-E132959.0780.V06B.HDF5;3B-HHR.MS.MRG.3IMERG.20021021-S133000-E135959.0810.V06B.HDF5;3B-HHR.MS.MRG.3IMERG.20021021-S140000-E142959.0840.V06B.HDF5;3B-HHR.MS.MRG.3IMERG.20021021-S143000-E145959.0870.V06B.HDF5;3B-HHR.MS.MRG.3IMERG.20021021-S150000-E152959.0900.V06B.HDF5;3B-HHR.MS.MRG.3IMERG.20021021-S153000-E155959.0930.V06B.HDF5;3B-HHR.MS.MRG.3IMERG.20021021-S160000-E162959.0960.V06B.HDF5;3B-HHR.MS.MRG.3IMERG.20021021-S163000-E165959.0990.V06B.HDF5;3B-HHR.MS.MRG.3IMERG.20021021-S170000-E172959.1020.V06B.HDF5;3B-HHR.MS.MRG.3IMERG.20021021-S173000-E175959.1050.V06B.HDF5;3B-HHR.MS.MRG.3IMERG.20021021-S180000-E182959.1080.V06B.HDF5;3B-HHR.MS.MRG.3IMERG.20021021-S183000-E185959.1110.V06B.HDF5;3B-HHR.MS.MRG.3IMERG.20021021-S190000-E192959.1140.V06B.HDF5;3B-HHR.MS.MRG.3IMERG.20021021-S193000-E195959.1170.V06B.HDF5;3B-HHR.MS.MRG.3IMERG.20021021-S200000-E202959.1200.V06B.HDF5;3B-HHR.MS.MRG.3IMERG.20021021-S203000-E205959.1230.V06B.HDF5;3B-HHR.MS.MRG.3IMERG.20021021-S210000-E212959.1260.V06B.HDF5;3B-HHR.MS.MRG.3IMERG.20021021-S213000-E215959.1290.V06B.HDF5;3B-HHR.MS.MRG.3IMERG.20021021-S220000-E222959.1320.V06B.HDF5;3B-HHR.MS.MRG.3IMERG.20021021-S223000-E225959.1350.V06B.HDF5;3B-HHR.MS.MRG.3IMERG.20021021-S230000-E232959.1380.V06B.HDF5;3B-HHR.MS.MRG.3IMERG.20021021-S233000-E235959.1410.V06B.HDF5\n",
      "    title: GPM IMERG Final Precipitation L3 1 day 0.1 degree x 0.1 degree (GPM_3IMERGDF)\n",
      "    DOI: 10.5067/GPM/IMERGDF/DAY/06\n",
      "    ProductionTime: 2019-06-21T19:59:07.663Z\n",
      "    history: 2020-04-04 23:22:16 GMT Hyrax-1.15.1 https://gpm1.gesdisc.eosdis.nasa.gov:443/opendap/GPM_L3/GPM_3IMERGDF.06/2002/10/3B-DAY.MS.MRG.3IMERG.20021021-S000000-E235959.V06.nc4.nc4?precipitationCal[0:0][1628:1636][1534:1539],HQprecipitation[0:0][1628:1636][1534:1539],precipitationCal_cnt[0:0][1628:1636][1534:1539],randomError[0:0][1628:1636][1534:1539],randomError_cnt[0:0][1628:1636][1534:1539],time_bnds[0:0][0:1],precipitationCal_cnt_cond[0:0][1628:1636][1534:1539],HQprecipitation_cnt[0:0][1628:1636][1534:1539],HQprecipitation_cnt_cond[0:0][1628:1636][1534:1539],time,lon[1628:1636],lat[1534:1539],nv\n",
      "    dimensions(sizes): time(1), lon(9), lat(6), nv(2)\n",
      "    variables(dimensions): float32 \u001b[4mprecipitationCal\u001b[0m(time,lon,lat), float32 \u001b[4mHQprecipitation\u001b[0m(time,lon,lat), int16 \u001b[4mprecipitationCal_cnt\u001b[0m(time,lon,lat), float32 \u001b[4mrandomError\u001b[0m(time,lon,lat), int16 \u001b[4mrandomError_cnt\u001b[0m(time,lon,lat), float64 \u001b[4mtime_bnds\u001b[0m(time,nv), int16 \u001b[4mprecipitationCal_cnt_cond\u001b[0m(time,lon,lat), int16 \u001b[4mHQprecipitation_cnt\u001b[0m(time,lon,lat), int16 \u001b[4mHQprecipitation_cnt_cond\u001b[0m(time,lon,lat), float32 \u001b[4mlat\u001b[0m(lat), float32 \u001b[4mlon\u001b[0m(lon), float32 \u001b[4mnv\u001b[0m(nv), float64 \u001b[4mtime\u001b[0m(time)\n",
      "    groups: \n",
      "\n"
     ]
    }
   ],
   "source": [
    "f = netCDF4.Dataset('3B-DAY.MS.MRG.3IMERG.20021021-S000000-E235959.V06.nc4.nc4')\n",
    "print(f)"
   ]
  },
  {
   "cell_type": "code",
   "execution_count": 17,
   "metadata": {},
   "outputs": [
    {
     "name": "stdout",
     "output_type": "stream",
     "text": [
      "odict_keys(['precipitationCal', 'HQprecipitation', 'precipitationCal_cnt', 'randomError', 'randomError_cnt', 'time_bnds', 'precipitationCal_cnt_cond', 'HQprecipitation_cnt', 'HQprecipitation_cnt_cond', 'lat', 'lon', 'nv', 'time'])\n"
     ]
    }
   ],
   "source": [
    "print(f.variables.keys()) # get all variable names"
   ]
  },
  {
   "cell_type": "code",
   "execution_count": 25,
   "metadata": {},
   "outputs": [
    {
     "name": "stdout",
     "output_type": "stream",
     "text": [
      "precipitationCal\n",
      "HQprecipitation\n",
      "precipitationCal_cnt\n",
      "randomError\n",
      "randomError_cnt\n",
      "time_bnds\n",
      "precipitationCal_cnt_cond\n",
      "HQprecipitation_cnt\n",
      "HQprecipitation_cnt_cond\n",
      "lat\n",
      "lon\n",
      "nv\n",
      "time\n"
     ]
    }
   ],
   "source": [
    "for i in f.variables:\n",
    "    print (i)"
   ]
  },
  {
   "cell_type": "code",
   "execution_count": 30,
   "metadata": {},
   "outputs": [
    {
     "name": "stdout",
     "output_type": "stream",
     "text": [
      "precipitationCal mm (1, 9, 6)\n",
      "HQprecipitation mm (1, 9, 6)\n",
      "precipitationCal_cnt count (1, 9, 6)\n",
      "randomError mm (1, 9, 6)\n",
      "randomError_cnt count (1, 9, 6)\n",
      "time_bnds days since 1970-01-01 00:00:00Z (1, 2)\n",
      "precipitationCal_cnt_cond count (1, 9, 6)\n",
      "HQprecipitation_cnt count (1, 9, 6)\n",
      "HQprecipitation_cnt_cond count (1, 9, 6)\n",
      "lat degrees_north (6,)\n",
      "lon degrees_east (9,)\n"
     ]
    },
    {
     "ename": "AttributeError",
     "evalue": "NetCDF: Attribute not found",
     "output_type": "error",
     "traceback": [
      "\u001b[0;31m---------------------------------------------------------------------------\u001b[0m",
      "\u001b[0;31mAttributeError\u001b[0m                            Traceback (most recent call last)",
      "\u001b[0;32m<ipython-input-30-40aab54cf76c>\u001b[0m in \u001b[0;36m<module>\u001b[0;34m\u001b[0m\n\u001b[1;32m      1\u001b[0m \u001b[0;32mfor\u001b[0m \u001b[0mi\u001b[0m \u001b[0;32min\u001b[0m \u001b[0mf\u001b[0m\u001b[0;34m.\u001b[0m\u001b[0mvariables\u001b[0m\u001b[0;34m:\u001b[0m\u001b[0;34m\u001b[0m\u001b[0;34m\u001b[0m\u001b[0m\n\u001b[0;32m----> 2\u001b[0;31m     \u001b[0mprint\u001b[0m \u001b[0;34m(\u001b[0m\u001b[0mi\u001b[0m\u001b[0;34m,\u001b[0m\u001b[0mnc\u001b[0m\u001b[0;34m.\u001b[0m\u001b[0mvariables\u001b[0m\u001b[0;34m[\u001b[0m\u001b[0mi\u001b[0m\u001b[0;34m]\u001b[0m\u001b[0;34m.\u001b[0m\u001b[0munits\u001b[0m\u001b[0;34m,\u001b[0m\u001b[0mnc\u001b[0m\u001b[0;34m.\u001b[0m\u001b[0mvariables\u001b[0m\u001b[0;34m[\u001b[0m\u001b[0mi\u001b[0m\u001b[0;34m]\u001b[0m\u001b[0;34m.\u001b[0m\u001b[0mshape\u001b[0m\u001b[0;34m)\u001b[0m\u001b[0;34m\u001b[0m\u001b[0;34m\u001b[0m\u001b[0m\n\u001b[0m",
      "\u001b[0;32mnetCDF4/_netCDF4.pyx\u001b[0m in \u001b[0;36mnetCDF4._netCDF4.Variable.__getattr__\u001b[0;34m()\u001b[0m\n",
      "\u001b[0;32mnetCDF4/_netCDF4.pyx\u001b[0m in \u001b[0;36mnetCDF4._netCDF4.Variable.getncattr\u001b[0;34m()\u001b[0m\n",
      "\u001b[0;32mnetCDF4/_netCDF4.pyx\u001b[0m in \u001b[0;36mnetCDF4._netCDF4._get_att\u001b[0;34m()\u001b[0m\n",
      "\u001b[0;32mnetCDF4/_netCDF4.pyx\u001b[0m in \u001b[0;36mnetCDF4._netCDF4._ensure_nc_success\u001b[0;34m()\u001b[0m\n",
      "\u001b[0;31mAttributeError\u001b[0m: NetCDF: Attribute not found"
     ]
    }
   ],
   "source": [
    "for i in f.variables:\n",
    "    print (i,nc.variables[i].units,nc.variables[i].shape)"
   ]
  },
  {
   "cell_type": "code",
   "execution_count": null,
   "metadata": {},
   "outputs": [],
   "source": [
    "import numpy as np\n"
   ]
  },
  {
   "cell_type": "code",
   "execution_count": 40,
   "metadata": {},
   "outputs": [
    {
     "data": {
      "text/plain": [
       "masked_array(data=[11981.],\n",
       "             mask=False,\n",
       "       fill_value=1e+20)"
      ]
     },
     "execution_count": 40,
     "metadata": {},
     "output_type": "execute_result"
    }
   ],
   "source": [
    "time = nc.variables['time'][:]\n",
    "time"
   ]
  },
  {
   "cell_type": "code",
   "execution_count": 41,
   "metadata": {},
   "outputs": [
    {
     "data": {
      "text/plain": [
       "masked_array(data=[0., 1.],\n",
       "             mask=False,\n",
       "       fill_value=1e+20,\n",
       "            dtype=float32)"
      ]
     },
     "execution_count": 41,
     "metadata": {},
     "output_type": "execute_result"
    }
   ],
   "source": [
    "nv = nc.variables['nv'][:]\n",
    "nv"
   ]
  },
  {
   "cell_type": "code",
   "execution_count": 68,
   "metadata": {},
   "outputs": [
    {
     "data": {
      "text/plain": [
       "masked_array(\n",
       "  data=[[[0.        , 0.        , 0.03856196, 0.01456006, 0.05255183,\n",
       "          0.03819582],\n",
       "         [0.00315136, 0.        , 0.01971689, 0.01451749, 0.08117345,\n",
       "          0.05760512],\n",
       "         [0.00315136, 0.00736059, 0.01606308, 0.02270119, 0.08598656,\n",
       "          0.05508146],\n",
       "         [0.00630272, 0.00736059, 0.0108223 , 0.01228336, 0.07128546,\n",
       "          0.06069047],\n",
       "         [0.00630272, 0.00841847, 0.00905877, 0.02118436, 0.06873265,\n",
       "          0.06065125],\n",
       "         [0.        , 0.00841847, 0.01285043, 0.02105202, 0.07937995,\n",
       "          0.06878884],\n",
       "         [0.        , 0.        , 0.01285043, 0.02579605, 0.08404201,\n",
       "          0.06051159],\n",
       "         [0.        , 0.        , 0.00630272, 0.04545048, 0.09547548,\n",
       "          0.06735858],\n",
       "         [0.        , 0.        , 0.00630272, 0.02391241, 0.082412  ,\n",
       "          0.08524852]]],\n",
       "  mask=False,\n",
       "  fill_value=1e+20,\n",
       "  dtype=float32)"
      ]
     },
     "execution_count": 68,
     "metadata": {},
     "output_type": "execute_result"
    }
   ],
   "source": [
    "precipitation = nc.variables['precipitationCal'][:]\n",
    "precipitation"
   ]
  },
  {
   "cell_type": "code",
   "execution_count": 45,
   "metadata": {},
   "outputs": [
    {
     "name": "stdout",
     "output_type": "stream",
     "text": [
      "<class 'netCDF4._netCDF4.Variable'>\n",
      "float32 precipitationCal(time, lon, lat)\n",
      "    units: mm\n",
      "    long_name: Daily accumulated precipitation (combined microwave-IR) estimate\n",
      "    coordinates: time lon lat\n",
      "    _FillValue: -9999.9\n",
      "    origname: precipitationCal\n",
      "    fullnamepath: /precipitationCal\n",
      "unlimited dimensions: \n",
      "current shape = (1, 9, 6)\n",
      "filling on\n"
     ]
    }
   ],
   "source": [
    "precipitation_temp = f.variables['precipitationCal']\n",
    "print (precipitation_temp)"
   ]
  },
  {
   "cell_type": "code",
   "execution_count": 67,
   "metadata": {},
   "outputs": [
    {
     "data": {
      "text/plain": [
       "masked_array(data=[63.45001 , 63.55    , 63.650005, 63.749996, 63.850002,\n",
       "                   63.95001 ],\n",
       "             mask=False,\n",
       "       fill_value=1e+20,\n",
       "            dtype=float32)"
      ]
     },
     "execution_count": 67,
     "metadata": {},
     "output_type": "execute_result"
    }
   ],
   "source": [
    "lat = nc.variables['lat'][:]\n",
    "lat"
   ]
  },
  {
   "cell_type": "code",
   "execution_count": 46,
   "metadata": {},
   "outputs": [
    {
     "data": {
      "text/plain": [
       "masked_array(data=[-17.149998, -17.049992, -16.95    , -16.849995,\n",
       "                   -16.750004, -16.649998, -16.549992, -16.45    ,\n",
       "                   -16.349995],\n",
       "             mask=False,\n",
       "       fill_value=1e+20,\n",
       "            dtype=float32)"
      ]
     },
     "execution_count": 46,
     "metadata": {},
     "output_type": "execute_result"
    }
   ],
   "source": [
    "lon = nc.variables['lon'][:]\n",
    "lon"
   ]
  },
  {
   "cell_type": "code",
   "execution_count": 81,
   "metadata": {},
   "outputs": [
    {
     "ename": "Exception",
     "evalue": "Data must be 1-dimensional",
     "output_type": "error",
     "traceback": [
      "\u001b[0;31m---------------------------------------------------------------------------\u001b[0m",
      "\u001b[0;31mException\u001b[0m                                 Traceback (most recent call last)",
      "\u001b[0;32m<ipython-input-81-a05e0e0eaaf9>\u001b[0m in \u001b[0;36m<module>\u001b[0;34m\u001b[0m\n\u001b[1;32m     11\u001b[0m \u001b[0;34m\u001b[0m\u001b[0m\n\u001b[1;32m     12\u001b[0m \u001b[0;31m# a pandas.Series designed for time series of a 2D lat,lon grid\u001b[0m\u001b[0;34m\u001b[0m\u001b[0;34m\u001b[0m\u001b[0;34m\u001b[0m\u001b[0m\n\u001b[0;32m---> 13\u001b[0;31m \u001b[0mprecip_ts\u001b[0m \u001b[0;34m=\u001b[0m \u001b[0mpd\u001b[0m\u001b[0;34m.\u001b[0m\u001b[0mSeries\u001b[0m\u001b[0;34m(\u001b[0m\u001b[0mprecip\u001b[0m\u001b[0;34m,\u001b[0m \u001b[0mindex\u001b[0m\u001b[0;34m=\u001b[0m\u001b[0mdtime\u001b[0m\u001b[0;34m)\u001b[0m\u001b[0;34m\u001b[0m\u001b[0;34m\u001b[0m\u001b[0m\n\u001b[0m\u001b[1;32m     14\u001b[0m \u001b[0;34m\u001b[0m\u001b[0m\n\u001b[1;32m     15\u001b[0m \u001b[0mprecip_ts\u001b[0m\u001b[0;34m.\u001b[0m\u001b[0mto_csv\u001b[0m\u001b[0;34m(\u001b[0m\u001b[0;34m'precip.csv'\u001b[0m\u001b[0;34m,\u001b[0m\u001b[0mindex\u001b[0m\u001b[0;34m=\u001b[0m\u001b[0;32mTrue\u001b[0m\u001b[0;34m,\u001b[0m \u001b[0mheader\u001b[0m\u001b[0;34m=\u001b[0m\u001b[0;32mTrue\u001b[0m\u001b[0;34m)\u001b[0m\u001b[0;34m\u001b[0m\u001b[0;34m\u001b[0m\u001b[0m\n",
      "\u001b[0;32m~/opt/anaconda3/lib/python3.7/site-packages/pandas/core/series.py\u001b[0m in \u001b[0;36m__init__\u001b[0;34m(self, data, index, dtype, name, copy, fastpath)\u001b[0m\n\u001b[1;32m    309\u001b[0m                     \u001b[0mdata\u001b[0m \u001b[0;34m=\u001b[0m \u001b[0mdata\u001b[0m\u001b[0;34m.\u001b[0m\u001b[0mcopy\u001b[0m\u001b[0;34m(\u001b[0m\u001b[0;34m)\u001b[0m\u001b[0;34m\u001b[0m\u001b[0;34m\u001b[0m\u001b[0m\n\u001b[1;32m    310\u001b[0m             \u001b[0;32melse\u001b[0m\u001b[0;34m:\u001b[0m\u001b[0;34m\u001b[0m\u001b[0;34m\u001b[0m\u001b[0m\n\u001b[0;32m--> 311\u001b[0;31m                 \u001b[0mdata\u001b[0m \u001b[0;34m=\u001b[0m \u001b[0msanitize_array\u001b[0m\u001b[0;34m(\u001b[0m\u001b[0mdata\u001b[0m\u001b[0;34m,\u001b[0m \u001b[0mindex\u001b[0m\u001b[0;34m,\u001b[0m \u001b[0mdtype\u001b[0m\u001b[0;34m,\u001b[0m \u001b[0mcopy\u001b[0m\u001b[0;34m,\u001b[0m \u001b[0mraise_cast_failure\u001b[0m\u001b[0;34m=\u001b[0m\u001b[0;32mTrue\u001b[0m\u001b[0;34m)\u001b[0m\u001b[0;34m\u001b[0m\u001b[0;34m\u001b[0m\u001b[0m\n\u001b[0m\u001b[1;32m    312\u001b[0m \u001b[0;34m\u001b[0m\u001b[0m\n\u001b[1;32m    313\u001b[0m                 \u001b[0mdata\u001b[0m \u001b[0;34m=\u001b[0m \u001b[0mSingleBlockManager\u001b[0m\u001b[0;34m(\u001b[0m\u001b[0mdata\u001b[0m\u001b[0;34m,\u001b[0m \u001b[0mindex\u001b[0m\u001b[0;34m,\u001b[0m \u001b[0mfastpath\u001b[0m\u001b[0;34m=\u001b[0m\u001b[0;32mTrue\u001b[0m\u001b[0;34m)\u001b[0m\u001b[0;34m\u001b[0m\u001b[0;34m\u001b[0m\u001b[0m\n",
      "\u001b[0;32m~/opt/anaconda3/lib/python3.7/site-packages/pandas/core/internals/construction.py\u001b[0m in \u001b[0;36msanitize_array\u001b[0;34m(data, index, dtype, copy, raise_cast_failure)\u001b[0m\n\u001b[1;32m    727\u001b[0m     \u001b[0;32melif\u001b[0m \u001b[0msubarr\u001b[0m\u001b[0;34m.\u001b[0m\u001b[0mndim\u001b[0m \u001b[0;34m>\u001b[0m \u001b[0;36m1\u001b[0m\u001b[0;34m:\u001b[0m\u001b[0;34m\u001b[0m\u001b[0;34m\u001b[0m\u001b[0m\n\u001b[1;32m    728\u001b[0m         \u001b[0;32mif\u001b[0m \u001b[0misinstance\u001b[0m\u001b[0;34m(\u001b[0m\u001b[0mdata\u001b[0m\u001b[0;34m,\u001b[0m \u001b[0mnp\u001b[0m\u001b[0;34m.\u001b[0m\u001b[0mndarray\u001b[0m\u001b[0;34m)\u001b[0m\u001b[0;34m:\u001b[0m\u001b[0;34m\u001b[0m\u001b[0;34m\u001b[0m\u001b[0m\n\u001b[0;32m--> 729\u001b[0;31m             \u001b[0;32mraise\u001b[0m \u001b[0mException\u001b[0m\u001b[0;34m(\u001b[0m\u001b[0;34m\"Data must be 1-dimensional\"\u001b[0m\u001b[0;34m)\u001b[0m\u001b[0;34m\u001b[0m\u001b[0;34m\u001b[0m\u001b[0m\n\u001b[0m\u001b[1;32m    730\u001b[0m         \u001b[0;32melse\u001b[0m\u001b[0;34m:\u001b[0m\u001b[0;34m\u001b[0m\u001b[0;34m\u001b[0m\u001b[0m\n\u001b[1;32m    731\u001b[0m             \u001b[0msubarr\u001b[0m \u001b[0;34m=\u001b[0m \u001b[0mcom\u001b[0m\u001b[0;34m.\u001b[0m\u001b[0masarray_tuplesafe\u001b[0m\u001b[0;34m(\u001b[0m\u001b[0mdata\u001b[0m\u001b[0;34m,\u001b[0m \u001b[0mdtype\u001b[0m\u001b[0;34m=\u001b[0m\u001b[0mdtype\u001b[0m\u001b[0;34m)\u001b[0m\u001b[0;34m\u001b[0m\u001b[0;34m\u001b[0m\u001b[0m\n",
      "\u001b[0;31mException\u001b[0m: Data must be 1-dimensional"
     ]
    }
   ],
   "source": [
    "precip_nc_file = '3B-DAY.MS.MRG.3IMERG.20021021-S000000-E235959.V06.nc4.nc4'\n",
    "nc = netCDF4.Dataset(precip_nc_file, mode='r')\n",
    "\n",
    "nc.variables.keys()\n",
    "\n",
    "lat = nc.variables['lat'][:]\n",
    "lon = nc.variables['lon'][:]\n",
    "time_var = nc.variables['time']\n",
    "dtime = netCDF4.num2date(time_var[:],time_var.units)\n",
    "precip = nc.variables['precipitationCal'][:]\n",
    "\n",
    "# a pandas.Series designed for time series of a 2D lat,lon grid\n",
    "precip_ts = pd.Series(precip, index=dtime) \n",
    "\n",
    "precip_ts.to_csv('precip.csv',index=True, header=True)"
   ]
  },
  {
   "cell_type": "code",
   "execution_count": 72,
   "metadata": {},
   "outputs": [
    {
     "data": {
      "text/plain": [
       "array([cftime.DatetimeGregorian(2002-10-21 00:00:00)], dtype=object)"
      ]
     },
     "execution_count": 72,
     "metadata": {},
     "output_type": "execute_result"
    }
   ],
   "source": [
    "dtime"
   ]
  },
  {
   "cell_type": "code",
   "execution_count": null,
   "metadata": {},
   "outputs": [],
   "source": []
  }
 ],
 "metadata": {
  "kernelspec": {
   "display_name": "Python 3",
   "language": "python",
   "name": "python3"
  },
  "language_info": {
   "codemirror_mode": {
    "name": "ipython",
    "version": 3
   },
   "file_extension": ".py",
   "mimetype": "text/x-python",
   "name": "python",
   "nbconvert_exporter": "python",
   "pygments_lexer": "ipython3",
   "version": "3.7.4"
  }
 },
 "nbformat": 4,
 "nbformat_minor": 2
}
